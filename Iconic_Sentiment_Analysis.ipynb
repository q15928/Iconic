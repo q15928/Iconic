{
 "cells": [
  {
   "cell_type": "markdown",
   "metadata": {},
   "source": [
    "# Sentiment Analysis"
   ]
  },
  {
   "cell_type": "markdown",
   "metadata": {},
   "source": [
    "**Task**: Perform Sentiment Analysis for the comments from customers who did on-line shopping with ICONIC."
   ]
  },
  {
   "cell_type": "markdown",
   "metadata": {},
   "source": [
    "## Import the necessary libraries "
   ]
  },
  {
   "cell_type": "code",
   "execution_count": 1,
   "metadata": {
    "collapsed": false
   },
   "outputs": [],
   "source": [
    "import pandas as pd\n",
    "import numpy as np\n",
    "import matplotlib\n",
    "import matplotlib.pyplot as plt\n",
    "from textblob import TextBlob, Blobber\n",
    "from textblob.sentiments import NaiveBayesAnalyzer\n",
    "\n",
    "matplotlib.style.use('ggplot')\n",
    "%matplotlib inline"
   ]
  },
  {
   "cell_type": "markdown",
   "metadata": {},
   "source": [
    "## 1. Load the data"
   ]
  },
  {
   "cell_type": "code",
   "execution_count": 2,
   "metadata": {
    "collapsed": false
   },
   "outputs": [
    {
     "data": {
      "text/html": [
       "<div>\n",
       "<table border=\"1\" class=\"dataframe\">\n",
       "  <thead>\n",
       "    <tr style=\"text-align: right;\">\n",
       "      <th></th>\n",
       "      <th>Device</th>\n",
       "      <th>Response ID</th>\n",
       "      <th>Time Started</th>\n",
       "      <th>Why would you hesitate to recommend THE ICONIC to a friend or colleague?</th>\n",
       "      <th>Why would you recommend THE ICONIC to a friend or colleague?</th>\n",
       "      <th>Site/App: how satisfied were you with the following?: What would make you use our app/msite/website more?</th>\n",
       "      <th>Product Range: how satisfied were you with the following?: How can we improve our product range?</th>\n",
       "      <th>Product Range: were you looking for a specific style or brand and could not find it? If so, please provide details below</th>\n",
       "      <th>Delivery: how satisfied were you with the following?: How can we improve our delivery service?</th>\n",
       "      <th>Customer service: how satisfied were you with the following?: How could we improve our customer service process?</th>\n",
       "      <th>Returns: how satisfied were you with the following?: How can we improve our returns experience?</th>\n",
       "    </tr>\n",
       "  </thead>\n",
       "  <tbody>\n",
       "    <tr>\n",
       "      <th>0</th>\n",
       "      <td>Msite</td>\n",
       "      <td>3058</td>\n",
       "      <td>2016-11-23 13:27:43</td>\n",
       "      <td>NaN</td>\n",
       "      <td>Great variety of products, fast delivery,easy ...</td>\n",
       "      <td>NaN</td>\n",
       "      <td>NaN</td>\n",
       "      <td>NaN</td>\n",
       "      <td>NaN</td>\n",
       "      <td>NaN</td>\n",
       "      <td>NaN</td>\n",
       "    </tr>\n",
       "    <tr>\n",
       "      <th>1</th>\n",
       "      <td>Msite</td>\n",
       "      <td>3761</td>\n",
       "      <td>2016-12-03 12:54:00</td>\n",
       "      <td>NaN</td>\n",
       "      <td>fast delivery</td>\n",
       "      <td>NaN</td>\n",
       "      <td>NaN</td>\n",
       "      <td>NaN</td>\n",
       "      <td>NaN</td>\n",
       "      <td>NaN</td>\n",
       "      <td>NaN</td>\n",
       "    </tr>\n",
       "    <tr>\n",
       "      <th>2</th>\n",
       "      <td>Msite</td>\n",
       "      <td>4133</td>\n",
       "      <td>2016-12-08 00:04:50</td>\n",
       "      <td>NaN</td>\n",
       "      <td>Value for money</td>\n",
       "      <td>NaN</td>\n",
       "      <td>NaN</td>\n",
       "      <td>No</td>\n",
       "      <td>NaN</td>\n",
       "      <td>NaN</td>\n",
       "      <td>NaN</td>\n",
       "    </tr>\n",
       "    <tr>\n",
       "      <th>3</th>\n",
       "      <td>Msite</td>\n",
       "      <td>4134</td>\n",
       "      <td>2016-12-08 00:34:02</td>\n",
       "      <td>NaN</td>\n",
       "      <td>Great customer service</td>\n",
       "      <td>NaN</td>\n",
       "      <td>NaN</td>\n",
       "      <td>NaN</td>\n",
       "      <td>NaN</td>\n",
       "      <td>NaN</td>\n",
       "      <td>NaN</td>\n",
       "    </tr>\n",
       "    <tr>\n",
       "      <th>4</th>\n",
       "      <td>Msite</td>\n",
       "      <td>4135</td>\n",
       "      <td>2016-12-08 01:00:43</td>\n",
       "      <td>NaN</td>\n",
       "      <td>Great service</td>\n",
       "      <td>NaN</td>\n",
       "      <td>NaN</td>\n",
       "      <td>NaN</td>\n",
       "      <td>NaN</td>\n",
       "      <td>NaN</td>\n",
       "      <td>Return hasn't happened yet - just picking up t...</td>\n",
       "    </tr>\n",
       "  </tbody>\n",
       "</table>\n",
       "</div>"
      ],
      "text/plain": [
       "  Device  Response ID        Time Started  \\\n",
       "0  Msite         3058 2016-11-23 13:27:43   \n",
       "1  Msite         3761 2016-12-03 12:54:00   \n",
       "2  Msite         4133 2016-12-08 00:04:50   \n",
       "3  Msite         4134 2016-12-08 00:34:02   \n",
       "4  Msite         4135 2016-12-08 01:00:43   \n",
       "\n",
       "  Why would you hesitate to recommend THE ICONIC to a friend or colleague?  \\\n",
       "0                                                NaN                         \n",
       "1                                                NaN                         \n",
       "2                                                NaN                         \n",
       "3                                                NaN                         \n",
       "4                                                NaN                         \n",
       "\n",
       "  Why would you recommend THE ICONIC to a friend or colleague?  \\\n",
       "0  Great variety of products, fast delivery,easy ...             \n",
       "1                                      fast delivery             \n",
       "2                                    Value for money             \n",
       "3                             Great customer service             \n",
       "4                                      Great service             \n",
       "\n",
       "  Site/App: how satisfied were you with the following?: What would make you use our app/msite/website more?  \\\n",
       "0                                                NaN                                                          \n",
       "1                                                NaN                                                          \n",
       "2                                                NaN                                                          \n",
       "3                                                NaN                                                          \n",
       "4                                                NaN                                                          \n",
       "\n",
       "  Product Range: how satisfied were you with the following?: How can we improve our product range?  \\\n",
       "0                                                NaN                                                 \n",
       "1                                                NaN                                                 \n",
       "2                                                NaN                                                 \n",
       "3                                                NaN                                                 \n",
       "4                                                NaN                                                 \n",
       "\n",
       "    Product Range: were you looking for a specific style or brand and could not find it? If so, please provide details below  \\\n",
       "0                                                NaN                                                                           \n",
       "1                                                NaN                                                                           \n",
       "2                                                 No                                                                           \n",
       "3                                                NaN                                                                           \n",
       "4                                                NaN                                                                           \n",
       "\n",
       "  Delivery: how satisfied were you with the following?: How can we improve our delivery service?  \\\n",
       "0                                                NaN                                               \n",
       "1                                                NaN                                               \n",
       "2                                                NaN                                               \n",
       "3                                                NaN                                               \n",
       "4                                                NaN                                               \n",
       "\n",
       "  Customer service: how satisfied were you with the following?: How could we improve our customer service process?  \\\n",
       "0                                                NaN                                                                 \n",
       "1                                                NaN                                                                 \n",
       "2                                                NaN                                                                 \n",
       "3                                                NaN                                                                 \n",
       "4                                                NaN                                                                 \n",
       "\n",
       "  Returns: how satisfied were you with the following?: How can we improve our returns experience?  \n",
       "0                                                NaN                                               \n",
       "1                                                NaN                                               \n",
       "2                                                NaN                                               \n",
       "3                                                NaN                                               \n",
       "4  Return hasn't happened yet - just picking up t...                                               "
      ]
     },
     "execution_count": 2,
     "metadata": {},
     "output_type": "execute_result"
    }
   ],
   "source": [
    "raw_data = pd.read_excel(\"./NPS_Comments.xlsx\", header=0)\n",
    "raw_data.head()"
   ]
  },
  {
   "cell_type": "markdown",
   "metadata": {},
   "source": [
    "## 2. Explore the data and clean the data"
   ]
  },
  {
   "cell_type": "markdown",
   "metadata": {},
   "source": [
    "### 2.1 Check the number of comments for each question"
   ]
  },
  {
   "cell_type": "code",
   "execution_count": 3,
   "metadata": {
    "collapsed": false
   },
   "outputs": [
    {
     "name": "stdout",
     "output_type": "stream",
     "text": [
      "<class 'pandas.core.frame.DataFrame'>\n",
      "RangeIndex: 5744 entries, 0 to 5743\n",
      "Data columns (total 11 columns):\n",
      "Device                                                                                                                        5744 non-null object\n",
      "Response ID                                                                                                                   5744 non-null int64\n",
      "Time Started                                                                                                                  5744 non-null datetime64[ns]\n",
      "Why would you hesitate to recommend THE ICONIC to a friend or colleague?                                                      365 non-null object\n",
      "Why would you recommend THE ICONIC to a friend or colleague?                                                                  3547 non-null object\n",
      "Site/App: how satisfied were you with the following?: What would make you use our app/msite/website more?                     1096 non-null object\n",
      "Product Range: how satisfied were you with the following?: How can we improve our product range?                              539 non-null object\n",
      "  Product Range: were you looking for a specific style or brand and could not find it? If so, please provide details below    826 non-null object\n",
      "Delivery: how satisfied were you with the following?: How can we improve our delivery service?                                568 non-null object\n",
      "Customer service: how satisfied were you with the following?: How could we improve our customer service process?              212 non-null object\n",
      "Returns: how satisfied were you with the following?: How can we improve our returns experience?                               222 non-null object\n",
      "dtypes: datetime64[ns](1), int64(1), object(9)\n",
      "memory usage: 493.7+ KB\n"
     ]
    }
   ],
   "source": [
    "raw_data.info()"
   ]
  },
  {
   "cell_type": "code",
   "execution_count": 4,
   "metadata": {
    "collapsed": false
   },
   "outputs": [
    {
     "name": "stdout",
     "output_type": "stream",
     "text": [
      "These comments are received from customers between 2016-10-07 23:09:00 and 2017-01-06 23:56:00.\n"
     ]
    }
   ],
   "source": [
    "print('These comments are received from customers between {0} and {1}.'.format(\\\n",
    "    raw_data['Time Started'].min().strftime('%Y-%m-%d %H:%M:%S'), raw_data['Time Started'].max().strftime('%Y-%m-%d %H:%M:%S')))"
   ]
  },
  {
   "cell_type": "markdown",
   "metadata": {},
   "source": [
    "It is better to have short column names. So I change the column names with a dict to map to the original questions."
   ]
  },
  {
   "cell_type": "code",
   "execution_count": 5,
   "metadata": {
    "collapsed": false
   },
   "outputs": [
    {
     "data": {
      "text/plain": [
       "{'Q1': 'Why would you hesitate to recommend THE ICONIC to a friend or colleague?',\n",
       " 'Q2': 'Why would you recommend THE ICONIC to a friend or colleague?',\n",
       " 'Q3': 'Site/App: how satisfied were you with the following?: What would make you use our app/msite/website more?',\n",
       " 'Q4': 'Product Range: how satisfied were you with the following?: How can we improve our product range?',\n",
       " 'Q5': 'Product Range: were you looking for a specific style or brand and could not find it? If so, please provide details below',\n",
       " 'Q6': 'Delivery: how satisfied were you with the following?: How can we improve our delivery service?',\n",
       " 'Q7': 'Customer service: how satisfied were you with the following?: How could we improve our customer service process?',\n",
       " 'Q8': 'Returns: how satisfied were you with the following?: How can we improve our returns experience?'}"
      ]
     },
     "execution_count": 5,
     "metadata": {},
     "output_type": "execute_result"
    }
   ],
   "source": [
    "ids = range(8)\n",
    "questions = {'Q'+str(id+1): q.strip() for id, q in zip(ids, raw_data.columns[3:])}\n",
    "questions"
   ]
  },
  {
   "cell_type": "code",
   "execution_count": 6,
   "metadata": {
    "collapsed": true
   },
   "outputs": [],
   "source": [
    "raw_data.columns = ['Device', 'Response ID', 'Time Started'] + list(sorted(questions.keys()))\n",
    "# raw_data.head()"
   ]
  },
  {
   "cell_type": "code",
   "execution_count": 7,
   "metadata": {
    "collapsed": true
   },
   "outputs": [
    {
     "data": {
      "text/plain": [
       "<matplotlib.axes._subplots.AxesSubplot at 0x1d5fa539518>"
      ]
     },
     "execution_count": 7,
     "metadata": {},
     "output_type": "execute_result"
    },
    {
     "data": {
      "image/png": "[encoded data removed]",
      "text/plain": [
       "<matplotlib.figure.Figure at 0x1d5fa0f1d30>"
      ]
     },
     "metadata": {},
     "output_type": "display_data"
    }
   ],
   "source": [
    "raw_data.iloc[:, 3:].count().plot(kind='bar', rot=0)"
   ]
  },
  {
   "cell_type": "markdown",
   "metadata": {},
   "source": [
    "It shows that there are most comments for Q2 'Why would you recommend THE ICONIC to a friend or colleague?', while there are lest comments for Q7 'Customer service: how satisfied were you with the following?: How could we improve our customer service process?'."
   ]
  },
  {
   "cell_type": "markdown",
   "metadata": {},
   "source": [
    "### 2.2 Combine all comments"
   ]
  },
  {
   "cell_type": "markdown",
   "metadata": {},
   "source": [
    "To make it simple, I concatenate all the comments from each record into one. Based on the combined comments, I can perform Sentiment Analysis to classify the comments as positive or negative."
   ]
  },
  {
   "cell_type": "code",
   "execution_count": 8,
   "metadata": {
    "collapsed": true
   },
   "outputs": [],
   "source": [
    "def concat_comment(args):\n",
    "    result = ''\n",
    "    for arg in args:\n",
    "        if isinstance(arg, str) and len(arg) > 0:\n",
    "            result += ' ' + arg\n",
    "    return result.strip()"
   ]
  },
  {
   "cell_type": "code",
   "execution_count": 9,
   "metadata": {
    "collapsed": false
   },
   "outputs": [
    {
     "data": {
      "text/plain": [
       "'s1 s2'"
      ]
     },
     "execution_count": 9,
     "metadata": {},
     "output_type": "execute_result"
    }
   ],
   "source": [
    "concat_comment(['s1', 's2', np.NaN])"
   ]
  },
  {
   "cell_type": "code",
   "execution_count": 10,
   "metadata": {
    "collapsed": false
   },
   "outputs": [
    {
     "data": {
      "text/html": [
       "<div>\n",
       "<table border=\"1\" class=\"dataframe\">\n",
       "  <thead>\n",
       "    <tr style=\"text-align: right;\">\n",
       "      <th></th>\n",
       "      <th>Device</th>\n",
       "      <th>Response ID</th>\n",
       "      <th>Time Started</th>\n",
       "      <th>Comment</th>\n",
       "    </tr>\n",
       "  </thead>\n",
       "  <tbody>\n",
       "    <tr>\n",
       "      <th>0</th>\n",
       "      <td>Msite</td>\n",
       "      <td>3058</td>\n",
       "      <td>2016-11-23 13:27:43</td>\n",
       "      <td>Great variety of products, fast delivery,easy ...</td>\n",
       "    </tr>\n",
       "    <tr>\n",
       "      <th>1</th>\n",
       "      <td>Msite</td>\n",
       "      <td>3761</td>\n",
       "      <td>2016-12-03 12:54:00</td>\n",
       "      <td>fast delivery</td>\n",
       "    </tr>\n",
       "    <tr>\n",
       "      <th>2</th>\n",
       "      <td>Msite</td>\n",
       "      <td>4133</td>\n",
       "      <td>2016-12-08 00:04:50</td>\n",
       "      <td>Value for money No</td>\n",
       "    </tr>\n",
       "    <tr>\n",
       "      <th>3</th>\n",
       "      <td>Msite</td>\n",
       "      <td>4134</td>\n",
       "      <td>2016-12-08 00:34:02</td>\n",
       "      <td>Great customer service</td>\n",
       "    </tr>\n",
       "    <tr>\n",
       "      <th>4</th>\n",
       "      <td>Msite</td>\n",
       "      <td>4135</td>\n",
       "      <td>2016-12-08 01:00:43</td>\n",
       "      <td>Great service Return hasn't happened yet - jus...</td>\n",
       "    </tr>\n",
       "    <tr>\n",
       "      <th>5</th>\n",
       "      <td>Msite</td>\n",
       "      <td>4136</td>\n",
       "      <td>2016-12-08 02:00:46</td>\n",
       "      <td></td>\n",
       "    </tr>\n",
       "    <tr>\n",
       "      <th>6</th>\n",
       "      <td>Msite</td>\n",
       "      <td>4137</td>\n",
       "      <td>2016-12-08 02:30:14</td>\n",
       "      <td>Fast shipping</td>\n",
       "    </tr>\n",
       "    <tr>\n",
       "      <th>7</th>\n",
       "      <td>Msite</td>\n",
       "      <td>4138</td>\n",
       "      <td>2016-12-08 02:58:01</td>\n",
       "      <td></td>\n",
       "    </tr>\n",
       "    <tr>\n",
       "      <th>8</th>\n",
       "      <td>Msite</td>\n",
       "      <td>4139</td>\n",
       "      <td>2016-12-08 02:58:02</td>\n",
       "      <td>Great service and fast shipping It was my firs...</td>\n",
       "    </tr>\n",
       "    <tr>\n",
       "      <th>9</th>\n",
       "      <td>Msite</td>\n",
       "      <td>4140</td>\n",
       "      <td>2016-12-08 03:11:55</td>\n",
       "      <td></td>\n",
       "    </tr>\n",
       "  </tbody>\n",
       "</table>\n",
       "</div>"
      ],
      "text/plain": [
       "  Device  Response ID        Time Started  \\\n",
       "0  Msite         3058 2016-11-23 13:27:43   \n",
       "1  Msite         3761 2016-12-03 12:54:00   \n",
       "2  Msite         4133 2016-12-08 00:04:50   \n",
       "3  Msite         4134 2016-12-08 00:34:02   \n",
       "4  Msite         4135 2016-12-08 01:00:43   \n",
       "5  Msite         4136 2016-12-08 02:00:46   \n",
       "6  Msite         4137 2016-12-08 02:30:14   \n",
       "7  Msite         4138 2016-12-08 02:58:01   \n",
       "8  Msite         4139 2016-12-08 02:58:02   \n",
       "9  Msite         4140 2016-12-08 03:11:55   \n",
       "\n",
       "                                             Comment  \n",
       "0  Great variety of products, fast delivery,easy ...  \n",
       "1                                      fast delivery  \n",
       "2                                 Value for money No  \n",
       "3                             Great customer service  \n",
       "4  Great service Return hasn't happened yet - jus...  \n",
       "5                                                     \n",
       "6                                      Fast shipping  \n",
       "7                                                     \n",
       "8  Great service and fast shipping It was my firs...  \n",
       "9                                                     "
      ]
     },
     "execution_count": 10,
     "metadata": {},
     "output_type": "execute_result"
    }
   ],
   "source": [
    "comments = raw_data.ix[:, :3]\n",
    "comments['Comment'] = raw_data[['Q1', 'Q2', 'Q3', 'Q4', 'Q5', 'Q6', 'Q7', 'Q8']].apply(concat_comment, axis=1)\n",
    "comments.head(10)"
   ]
  },
  {
   "cell_type": "markdown",
   "metadata": {},
   "source": [
    "Then calculate the length for each comment."
   ]
  },
  {
   "cell_type": "code",
   "execution_count": 11,
   "metadata": {
    "collapsed": false
   },
   "outputs": [
    {
     "data": {
      "text/html": [
       "<div>\n",
       "<table border=\"1\" class=\"dataframe\">\n",
       "  <thead>\n",
       "    <tr style=\"text-align: right;\">\n",
       "      <th></th>\n",
       "      <th>Device</th>\n",
       "      <th>Response ID</th>\n",
       "      <th>Time Started</th>\n",
       "      <th>Comment</th>\n",
       "      <th>Length</th>\n",
       "    </tr>\n",
       "  </thead>\n",
       "  <tbody>\n",
       "    <tr>\n",
       "      <th>0</th>\n",
       "      <td>Msite</td>\n",
       "      <td>3058</td>\n",
       "      <td>2016-11-23 13:27:43</td>\n",
       "      <td>Great variety of products, fast delivery,easy ...</td>\n",
       "      <td>11</td>\n",
       "    </tr>\n",
       "    <tr>\n",
       "      <th>1</th>\n",
       "      <td>Msite</td>\n",
       "      <td>3761</td>\n",
       "      <td>2016-12-03 12:54:00</td>\n",
       "      <td>fast delivery</td>\n",
       "      <td>2</td>\n",
       "    </tr>\n",
       "    <tr>\n",
       "      <th>2</th>\n",
       "      <td>Msite</td>\n",
       "      <td>4133</td>\n",
       "      <td>2016-12-08 00:04:50</td>\n",
       "      <td>Value for money No</td>\n",
       "      <td>4</td>\n",
       "    </tr>\n",
       "    <tr>\n",
       "      <th>3</th>\n",
       "      <td>Msite</td>\n",
       "      <td>4134</td>\n",
       "      <td>2016-12-08 00:34:02</td>\n",
       "      <td>Great customer service</td>\n",
       "      <td>3</td>\n",
       "    </tr>\n",
       "    <tr>\n",
       "      <th>4</th>\n",
       "      <td>Msite</td>\n",
       "      <td>4135</td>\n",
       "      <td>2016-12-08 01:00:43</td>\n",
       "      <td>Great service Return hasn't happened yet - jus...</td>\n",
       "      <td>20</td>\n",
       "    </tr>\n",
       "    <tr>\n",
       "      <th>5</th>\n",
       "      <td>Msite</td>\n",
       "      <td>4136</td>\n",
       "      <td>2016-12-08 02:00:46</td>\n",
       "      <td></td>\n",
       "      <td>0</td>\n",
       "    </tr>\n",
       "    <tr>\n",
       "      <th>6</th>\n",
       "      <td>Msite</td>\n",
       "      <td>4137</td>\n",
       "      <td>2016-12-08 02:30:14</td>\n",
       "      <td>Fast shipping</td>\n",
       "      <td>2</td>\n",
       "    </tr>\n",
       "    <tr>\n",
       "      <th>7</th>\n",
       "      <td>Msite</td>\n",
       "      <td>4138</td>\n",
       "      <td>2016-12-08 02:58:01</td>\n",
       "      <td></td>\n",
       "      <td>0</td>\n",
       "    </tr>\n",
       "    <tr>\n",
       "      <th>8</th>\n",
       "      <td>Msite</td>\n",
       "      <td>4139</td>\n",
       "      <td>2016-12-08 02:58:02</td>\n",
       "      <td>Great service and fast shipping It was my firs...</td>\n",
       "      <td>36</td>\n",
       "    </tr>\n",
       "    <tr>\n",
       "      <th>9</th>\n",
       "      <td>Msite</td>\n",
       "      <td>4140</td>\n",
       "      <td>2016-12-08 03:11:55</td>\n",
       "      <td></td>\n",
       "      <td>0</td>\n",
       "    </tr>\n",
       "  </tbody>\n",
       "</table>\n",
       "</div>"
      ],
      "text/plain": [
       "  Device  Response ID        Time Started  \\\n",
       "0  Msite         3058 2016-11-23 13:27:43   \n",
       "1  Msite         3761 2016-12-03 12:54:00   \n",
       "2  Msite         4133 2016-12-08 00:04:50   \n",
       "3  Msite         4134 2016-12-08 00:34:02   \n",
       "4  Msite         4135 2016-12-08 01:00:43   \n",
       "5  Msite         4136 2016-12-08 02:00:46   \n",
       "6  Msite         4137 2016-12-08 02:30:14   \n",
       "7  Msite         4138 2016-12-08 02:58:01   \n",
       "8  Msite         4139 2016-12-08 02:58:02   \n",
       "9  Msite         4140 2016-12-08 03:11:55   \n",
       "\n",
       "                                             Comment  Length  \n",
       "0  Great variety of products, fast delivery,easy ...      11  \n",
       "1                                      fast delivery       2  \n",
       "2                                 Value for money No       4  \n",
       "3                             Great customer service       3  \n",
       "4  Great service Return hasn't happened yet - jus...      20  \n",
       "5                                                          0  \n",
       "6                                      Fast shipping       2  \n",
       "7                                                          0  \n",
       "8  Great service and fast shipping It was my firs...      36  \n",
       "9                                                          0  "
      ]
     },
     "execution_count": 11,
     "metadata": {},
     "output_type": "execute_result"
    }
   ],
   "source": [
    "comments['Length'] = comments['Comment'].apply(lambda s: len(s.split()))\n",
    "comments.head(10)"
   ]
  },
  {
   "cell_type": "markdown",
   "metadata": {},
   "source": [
    "The records without comments are dropped."
   ]
  },
  {
   "cell_type": "code",
   "execution_count": 12,
   "metadata": {
    "collapsed": false
   },
   "outputs": [
    {
     "name": "stdout",
     "output_type": "stream",
     "text": [
      "There are total 1791 records without comments\n"
     ]
    }
   ],
   "source": [
    "clean_comments = comments[comments['Length'] > 0].copy()\n",
    "print('There are total {0} records without comments'.format(len(comments) - len(clean_comments)))"
   ]
  },
  {
   "cell_type": "markdown",
   "metadata": {},
   "source": [
    "We can inspect the distribution of length of comments."
   ]
  },
  {
   "cell_type": "code",
   "execution_count": 13,
   "metadata": {
    "collapsed": false
   },
   "outputs": [
    {
     "data": {
      "text/plain": [
       "count    3953.000000\n",
       "mean       16.190235\n",
       "std        23.016590\n",
       "min         1.000000\n",
       "25%         4.000000\n",
       "50%         8.000000\n",
       "75%        19.000000\n",
       "max       441.000000\n",
       "Name: Length, dtype: float64"
      ]
     },
     "execution_count": 13,
     "metadata": {},
     "output_type": "execute_result"
    }
   ],
   "source": [
    "clean_comments['Length'].describe()"
   ]
  },
  {
   "cell_type": "markdown",
   "metadata": {},
   "source": [
    "Histogram and Boxplot for the length of comments."
   ]
  },
  {
   "cell_type": "code",
   "execution_count": 14,
   "metadata": {
    "collapsed": true
   },
   "outputs": [
    {
     "data": {
      "text/plain": [
       "<matplotlib.axes._subplots.AxesSubplot at 0x1d5fa4c74e0>"
      ]
     },
     "execution_count": 14,
     "metadata": {},
     "output_type": "execute_result"
    },
    {
     "data": {
      "image/png": "[encoded data removed]",
      "text/plain": [
       "<matplotlib.figure.Figure at 0x1d5fa58d160>"
      ]
     },
     "metadata": {},
     "output_type": "display_data"
    }
   ],
   "source": [
    "clean_comments['Length'].plot(kind='hist', bins=15)"
   ]
  },
  {
   "cell_type": "code",
   "execution_count": 15,
   "metadata": {
    "collapsed": true
   },
   "outputs": [
    {
     "data": {
      "text/plain": [
       "<matplotlib.axes._subplots.AxesSubplot at 0x1d5fa58d898>"
      ]
     },
     "execution_count": 15,
     "metadata": {},
     "output_type": "execute_result"
    },
    {
     "data": {
      "image/png": "[encoded data removed]",
      "text/plain": [
       "<matplotlib.figure.Figure at 0x1d5fa6d9c88>"
      ]
     },
     "metadata": {},
     "output_type": "display_data"
    }
   ],
   "source": [
    "clean_comments['Length'].plot(kind='box')"
   ]
  },
  {
   "cell_type": "markdown",
   "metadata": {},
   "source": [
    "The majority of comments are within 20 words. However, there is a very enthusiastic customer who commented more than 400 words. Let's have a look what the customer commented."
   ]
  },
  {
   "cell_type": "code",
   "execution_count": 16,
   "metadata": {
    "collapsed": false
   },
   "outputs": [
    {
     "data": {
      "text/html": [
       "<div>\n",
       "<table border=\"1\" class=\"dataframe\">\n",
       "  <thead>\n",
       "    <tr style=\"text-align: right;\">\n",
       "      <th></th>\n",
       "      <th>Device</th>\n",
       "      <th>Response ID</th>\n",
       "      <th>Time Started</th>\n",
       "      <th>Q1</th>\n",
       "      <th>Q2</th>\n",
       "      <th>Q3</th>\n",
       "      <th>Q4</th>\n",
       "      <th>Q5</th>\n",
       "      <th>Q6</th>\n",
       "      <th>Q7</th>\n",
       "      <th>Q8</th>\n",
       "    </tr>\n",
       "  </thead>\n",
       "  <tbody>\n",
       "    <tr>\n",
       "      <th>5513</th>\n",
       "      <td>Desktop</td>\n",
       "      <td>74371</td>\n",
       "      <td>2017-01-03 07:21:00</td>\n",
       "      <td>NaN</td>\n",
       "      <td>Resealable pouch! free delivery easy returns</td>\n",
       "      <td>I find searching the site laborious please do ...</td>\n",
       "      <td>Some of the items have been terrific but some ...</td>\n",
       "      <td>High quality good shaped t-shirts and tanks NO...</td>\n",
       "      <td>I am very satisfied with your delivery service...</td>\n",
       "      <td>The paypal function would not activate on the ...</td>\n",
       "      <td>NaN</td>\n",
       "    </tr>\n",
       "  </tbody>\n",
       "</table>\n",
       "</div>"
      ],
      "text/plain": [
       "       Device  Response ID        Time Started   Q1  \\\n",
       "5513  Desktop        74371 2017-01-03 07:21:00  NaN   \n",
       "\n",
       "                                                Q2  \\\n",
       "5513  Resealable pouch! free delivery easy returns   \n",
       "\n",
       "                                                     Q3  \\\n",
       "5513  I find searching the site laborious please do ...   \n",
       "\n",
       "                                                     Q4  \\\n",
       "5513  Some of the items have been terrific but some ...   \n",
       "\n",
       "                                                     Q5  \\\n",
       "5513  High quality good shaped t-shirts and tanks NO...   \n",
       "\n",
       "                                                     Q6  \\\n",
       "5513  I am very satisfied with your delivery service...   \n",
       "\n",
       "                                                     Q7   Q8  \n",
       "5513  The paypal function would not activate on the ...  NaN  "
      ]
     },
     "execution_count": 16,
     "metadata": {},
     "output_type": "execute_result"
    }
   ],
   "source": [
    "lengthy_ix = clean_comments[clean_comments['Length'] > 400].index\n",
    "raw_data.ix[lengthy_ix,:]"
   ]
  },
  {
   "cell_type": "markdown",
   "metadata": {},
   "source": [
    "## 3. Sentiment Analysis with textblob library"
   ]
  },
  {
   "cell_type": "markdown",
   "metadata": {},
   "source": [
    "There are no output labels for THE ICONIC data. I use [TextBlob library](https://textblob.readthedocs.io) to perform Sentiment Analysis.\n",
    ">\"TextBlob is a Python (2 and 3) library for processing textual data. It provides a consistent API for diving into common natural language processing (NLP) tasks such as part-of-speech tagging, noun phrase extraction, sentiment analysis, and more.\"\n",
    "\n",
    "There are two types of sentiment analysis provided by this library.\n",
    "* **PatternAnalyzer**: based on the pattern library.\n",
    "* **NaiveBayesAnalyzer**: an NLTK classifier trained on a movie reviews corpus."
   ]
  },
  {
   "cell_type": "markdown",
   "metadata": {},
   "source": [
    "### 3.1 Sentiment polarity\n",
    "The polarity score is a float within the range [-1.0, 1.0] where -1.0 is very negative and 1.0 is very positive. The details behind how to calculate the sentiment polarity can be found in [this web page](http://planspace.org/20150607-textblob_sentiment/). "
   ]
  },
  {
   "cell_type": "code",
   "execution_count": 17,
   "metadata": {
    "collapsed": true
   },
   "outputs": [],
   "source": [
    "def senti_polarity(comment):\n",
    "    s = TextBlob(comment)\n",
    "    return s.sentiment.polarity"
   ]
  },
  {
   "cell_type": "code",
   "execution_count": 18,
   "metadata": {
    "collapsed": false
   },
   "outputs": [],
   "source": [
    "clean_comments['Sentiment polarity'] = clean_comments['Comment'].apply(senti_polarity)"
   ]
  },
  {
   "cell_type": "markdown",
   "metadata": {},
   "source": [
    "The distribution of Sentiment Polarity is"
   ]
  },
  {
   "cell_type": "code",
   "execution_count": 21,
   "metadata": {
    "collapsed": false
   },
   "outputs": [
    {
     "data": {
      "text/plain": [
       "count    3953.000000\n",
       "mean        0.360464\n",
       "std         0.272684\n",
       "min        -1.000000\n",
       "25%         0.200000\n",
       "50%         0.383333\n",
       "75%         0.522222\n",
       "max         1.000000\n",
       "Name: Sentiment polarity, dtype: float64"
      ]
     },
     "execution_count": 21,
     "metadata": {},
     "output_type": "execute_result"
    }
   ],
   "source": [
    "clean_comments['Sentiment polarity'].describe()"
   ]
  },
  {
   "cell_type": "code",
   "execution_count": 22,
   "metadata": {
    "collapsed": true
   },
   "outputs": [
    {
     "data": {
      "text/plain": [
       "<matplotlib.axes._subplots.AxesSubplot at 0x1d5facae630>"
      ]
     },
     "execution_count": 22,
     "metadata": {},
     "output_type": "execute_result"
    },
    {
     "data": {
      "image/png": "[encoded data removed]",
      "text/plain": [
       "<matplotlib.figure.Figure at 0x1d5fa58d6a0>"
      ]
     },
     "metadata": {},
     "output_type": "display_data"
    }
   ],
   "source": [
    "clean_comments['Sentiment polarity'].plot(kind='hist', bins=20)"
   ]
  },
  {
   "cell_type": "markdown",
   "metadata": {},
   "source": [
    "### 3.2 Sentiment Analysis\n",
    "We can convert the continuous polarity into discreate opinions, polarity < 0 is negative sentiment while polarity >= 0 is positive sentiment."
   ]
  },
  {
   "cell_type": "code",
   "execution_count": 19,
   "metadata": {
    "collapsed": false
   },
   "outputs": [],
   "source": [
    "clean_comments['Sentiment output'] = clean_comments['Sentiment polarity'].apply(lambda s: 'pos' if s >= 0 else 'neg')"
   ]
  },
  {
   "cell_type": "code",
   "execution_count": 20,
   "metadata": {
    "collapsed": false
   },
   "outputs": [
    {
     "data": {
      "text/html": [
       "<div>\n",
       "<table border=\"1\" class=\"dataframe\">\n",
       "  <thead>\n",
       "    <tr style=\"text-align: right;\">\n",
       "      <th></th>\n",
       "      <th>Device</th>\n",
       "      <th>Response ID</th>\n",
       "      <th>Time Started</th>\n",
       "      <th>Comment</th>\n",
       "      <th>Length</th>\n",
       "      <th>Sentiment polarity</th>\n",
       "      <th>Sentiment output</th>\n",
       "    </tr>\n",
       "  </thead>\n",
       "  <tbody>\n",
       "    <tr>\n",
       "      <th>0</th>\n",
       "      <td>Msite</td>\n",
       "      <td>3058</td>\n",
       "      <td>2016-11-23 13:27:43</td>\n",
       "      <td>Great variety of products, fast delivery,easy ...</td>\n",
       "      <td>11</td>\n",
       "      <td>0.500000</td>\n",
       "      <td>pos</td>\n",
       "    </tr>\n",
       "    <tr>\n",
       "      <th>1</th>\n",
       "      <td>Msite</td>\n",
       "      <td>3761</td>\n",
       "      <td>2016-12-03 12:54:00</td>\n",
       "      <td>fast delivery</td>\n",
       "      <td>2</td>\n",
       "      <td>0.200000</td>\n",
       "      <td>pos</td>\n",
       "    </tr>\n",
       "    <tr>\n",
       "      <th>2</th>\n",
       "      <td>Msite</td>\n",
       "      <td>4133</td>\n",
       "      <td>2016-12-08 00:04:50</td>\n",
       "      <td>Value for money No</td>\n",
       "      <td>4</td>\n",
       "      <td>0.000000</td>\n",
       "      <td>pos</td>\n",
       "    </tr>\n",
       "    <tr>\n",
       "      <th>3</th>\n",
       "      <td>Msite</td>\n",
       "      <td>4134</td>\n",
       "      <td>2016-12-08 00:34:02</td>\n",
       "      <td>Great customer service</td>\n",
       "      <td>3</td>\n",
       "      <td>0.800000</td>\n",
       "      <td>pos</td>\n",
       "    </tr>\n",
       "    <tr>\n",
       "      <th>4</th>\n",
       "      <td>Msite</td>\n",
       "      <td>4135</td>\n",
       "      <td>2016-12-08 01:00:43</td>\n",
       "      <td>Great service Return hasn't happened yet - jus...</td>\n",
       "      <td>20</td>\n",
       "      <td>0.150000</td>\n",
       "      <td>pos</td>\n",
       "    </tr>\n",
       "    <tr>\n",
       "      <th>6</th>\n",
       "      <td>Msite</td>\n",
       "      <td>4137</td>\n",
       "      <td>2016-12-08 02:30:14</td>\n",
       "      <td>Fast shipping</td>\n",
       "      <td>2</td>\n",
       "      <td>0.200000</td>\n",
       "      <td>pos</td>\n",
       "    </tr>\n",
       "    <tr>\n",
       "      <th>8</th>\n",
       "      <td>Msite</td>\n",
       "      <td>4139</td>\n",
       "      <td>2016-12-08 02:58:02</td>\n",
       "      <td>Great service and fast shipping It was my firs...</td>\n",
       "      <td>36</td>\n",
       "      <td>0.429762</td>\n",
       "      <td>pos</td>\n",
       "    </tr>\n",
       "    <tr>\n",
       "      <th>10</th>\n",
       "      <td>Msite</td>\n",
       "      <td>4141</td>\n",
       "      <td>2016-12-08 03:13:27</td>\n",
       "      <td>Ease of purchase</td>\n",
       "      <td>3</td>\n",
       "      <td>0.000000</td>\n",
       "      <td>pos</td>\n",
       "    </tr>\n",
       "    <tr>\n",
       "      <th>11</th>\n",
       "      <td>Msite</td>\n",
       "      <td>4142</td>\n",
       "      <td>2016-12-08 03:26:48</td>\n",
       "      <td>Easy, quick.</td>\n",
       "      <td>2</td>\n",
       "      <td>0.383333</td>\n",
       "      <td>pos</td>\n",
       "    </tr>\n",
       "    <tr>\n",
       "      <th>14</th>\n",
       "      <td>Msite</td>\n",
       "      <td>4145</td>\n",
       "      <td>2016-12-08 03:40:41</td>\n",
       "      <td>excellent, high quality products, quick delive...</td>\n",
       "      <td>38</td>\n",
       "      <td>0.412396</td>\n",
       "      <td>pos</td>\n",
       "    </tr>\n",
       "  </tbody>\n",
       "</table>\n",
       "</div>"
      ],
      "text/plain": [
       "   Device  Response ID        Time Started  \\\n",
       "0   Msite         3058 2016-11-23 13:27:43   \n",
       "1   Msite         3761 2016-12-03 12:54:00   \n",
       "2   Msite         4133 2016-12-08 00:04:50   \n",
       "3   Msite         4134 2016-12-08 00:34:02   \n",
       "4   Msite         4135 2016-12-08 01:00:43   \n",
       "6   Msite         4137 2016-12-08 02:30:14   \n",
       "8   Msite         4139 2016-12-08 02:58:02   \n",
       "10  Msite         4141 2016-12-08 03:13:27   \n",
       "11  Msite         4142 2016-12-08 03:26:48   \n",
       "14  Msite         4145 2016-12-08 03:40:41   \n",
       "\n",
       "                                              Comment  Length  \\\n",
       "0   Great variety of products, fast delivery,easy ...      11   \n",
       "1                                       fast delivery       2   \n",
       "2                                  Value for money No       4   \n",
       "3                              Great customer service       3   \n",
       "4   Great service Return hasn't happened yet - jus...      20   \n",
       "6                                       Fast shipping       2   \n",
       "8   Great service and fast shipping It was my firs...      36   \n",
       "10                                   Ease of purchase       3   \n",
       "11                                       Easy, quick.       2   \n",
       "14  excellent, high quality products, quick delive...      38   \n",
       "\n",
       "    Sentiment polarity Sentiment output  \n",
       "0             0.500000              pos  \n",
       "1             0.200000              pos  \n",
       "2             0.000000              pos  \n",
       "3             0.800000              pos  \n",
       "4             0.150000              pos  \n",
       "6             0.200000              pos  \n",
       "8             0.429762              pos  \n",
       "10            0.000000              pos  \n",
       "11            0.383333              pos  \n",
       "14            0.412396              pos  "
      ]
     },
     "execution_count": 20,
     "metadata": {},
     "output_type": "execute_result"
    }
   ],
   "source": [
    "clean_comments.head(10)"
   ]
  },
  {
   "cell_type": "markdown",
   "metadata": {},
   "source": [
    "And the distribution in terms of positive and negative sentiments is"
   ]
  },
  {
   "cell_type": "code",
   "execution_count": 142,
   "metadata": {
    "collapsed": false
   },
   "outputs": [
    {
     "data": {
      "text/plain": [
       "pos    3789\n",
       "neg     164\n",
       "Name: Sentiment output 1, dtype: int64"
      ]
     },
     "execution_count": 142,
     "metadata": {},
     "output_type": "execute_result"
    }
   ],
   "source": [
    "clean_comments['Sentiment output'].value_counts()"
   ]
  },
  {
   "cell_type": "code",
   "execution_count": 133,
   "metadata": {
    "collapsed": true
   },
   "outputs": [
    {
     "data": {
      "text/plain": [
       "<matplotlib.axes._subplots.AxesSubplot at 0x7f77e9d7ef60>"
      ]
     },
     "execution_count": 133,
     "metadata": {},
     "output_type": "execute_result"
    },
    {
     "data": {
      "image/png": "[encoded data removed]",
      "text/plain": [
       "<matplotlib.figure.Figure at 0x7f77e9d9ca20>"
      ]
     },
     "metadata": {},
     "output_type": "display_data"
    }
   ],
   "source": [
    "clean_comments['Sentiment output'].value_counts().plot(kind='bar', rot=0)"
   ]
  },
  {
   "cell_type": "markdown",
   "metadata": {},
   "source": [
    "#### Let us do a spot check of some comments to see if it makes sense for positive or negative reviews."
   ]
  },
  {
   "cell_type": "code",
   "execution_count": 23,
   "metadata": {
    "collapsed": false
   },
   "outputs": [
    {
     "data": {
      "text/html": [
       "<div>\n",
       "<table border=\"1\" class=\"dataframe\">\n",
       "  <thead>\n",
       "    <tr style=\"text-align: right;\">\n",
       "      <th></th>\n",
       "      <th>Device</th>\n",
       "      <th>Response ID</th>\n",
       "      <th>Time Started</th>\n",
       "      <th>Comment</th>\n",
       "      <th>Length</th>\n",
       "      <th>Sentiment polarity</th>\n",
       "      <th>Sentiment output</th>\n",
       "    </tr>\n",
       "  </thead>\n",
       "  <tbody>\n",
       "    <tr>\n",
       "      <th>0</th>\n",
       "      <td>Msite</td>\n",
       "      <td>3058</td>\n",
       "      <td>2016-11-23 13:27:43</td>\n",
       "      <td>Great variety of products, fast delivery,easy ...</td>\n",
       "      <td>11</td>\n",
       "      <td>0.500000</td>\n",
       "      <td>pos</td>\n",
       "    </tr>\n",
       "    <tr>\n",
       "      <th>3</th>\n",
       "      <td>Msite</td>\n",
       "      <td>4134</td>\n",
       "      <td>2016-12-08 00:34:02</td>\n",
       "      <td>Great customer service</td>\n",
       "      <td>3</td>\n",
       "      <td>0.800000</td>\n",
       "      <td>pos</td>\n",
       "    </tr>\n",
       "    <tr>\n",
       "      <th>8</th>\n",
       "      <td>Msite</td>\n",
       "      <td>4139</td>\n",
       "      <td>2016-12-08 02:58:02</td>\n",
       "      <td>Great service and fast shipping It was my firs...</td>\n",
       "      <td>36</td>\n",
       "      <td>0.429762</td>\n",
       "      <td>pos</td>\n",
       "    </tr>\n",
       "    <tr>\n",
       "      <th>11</th>\n",
       "      <td>Msite</td>\n",
       "      <td>4142</td>\n",
       "      <td>2016-12-08 03:26:48</td>\n",
       "      <td>Easy, quick.</td>\n",
       "      <td>2</td>\n",
       "      <td>0.383333</td>\n",
       "      <td>pos</td>\n",
       "    </tr>\n",
       "    <tr>\n",
       "      <th>14</th>\n",
       "      <td>Msite</td>\n",
       "      <td>4145</td>\n",
       "      <td>2016-12-08 03:40:41</td>\n",
       "      <td>excellent, high quality products, quick delive...</td>\n",
       "      <td>38</td>\n",
       "      <td>0.412396</td>\n",
       "      <td>pos</td>\n",
       "    </tr>\n",
       "  </tbody>\n",
       "</table>\n",
       "</div>"
      ],
      "text/plain": [
       "   Device  Response ID        Time Started  \\\n",
       "0   Msite         3058 2016-11-23 13:27:43   \n",
       "3   Msite         4134 2016-12-08 00:34:02   \n",
       "8   Msite         4139 2016-12-08 02:58:02   \n",
       "11  Msite         4142 2016-12-08 03:26:48   \n",
       "14  Msite         4145 2016-12-08 03:40:41   \n",
       "\n",
       "                                              Comment  Length  \\\n",
       "0   Great variety of products, fast delivery,easy ...      11   \n",
       "3                              Great customer service       3   \n",
       "8   Great service and fast shipping It was my firs...      36   \n",
       "11                                       Easy, quick.       2   \n",
       "14  excellent, high quality products, quick delive...      38   \n",
       "\n",
       "    Sentiment polarity Sentiment output  \n",
       "0             0.500000              pos  \n",
       "3             0.800000              pos  \n",
       "8             0.429762              pos  \n",
       "11            0.383333              pos  \n",
       "14            0.412396              pos  "
      ]
     },
     "execution_count": 23,
     "metadata": {},
     "output_type": "execute_result"
    }
   ],
   "source": [
    "clean_comments[clean_comments['Sentiment polarity'] > 0.2].head()"
   ]
  },
  {
   "cell_type": "code",
   "execution_count": 24,
   "metadata": {
    "collapsed": false
   },
   "outputs": [
    {
     "data": {
      "text/html": [
       "<div>\n",
       "<table border=\"1\" class=\"dataframe\">\n",
       "  <thead>\n",
       "    <tr style=\"text-align: right;\">\n",
       "      <th></th>\n",
       "      <th>Device</th>\n",
       "      <th>Response ID</th>\n",
       "      <th>Time Started</th>\n",
       "      <th>Comment</th>\n",
       "      <th>Length</th>\n",
       "      <th>Sentiment polarity</th>\n",
       "      <th>Sentiment output</th>\n",
       "    </tr>\n",
       "  </thead>\n",
       "  <tbody>\n",
       "    <tr>\n",
       "      <th>202</th>\n",
       "      <td>Msite</td>\n",
       "      <td>4333</td>\n",
       "      <td>2016-12-12 12:43:18</td>\n",
       "      <td>Received wrong order and order out of stock</td>\n",
       "      <td>8</td>\n",
       "      <td>-0.500000</td>\n",
       "      <td>neg</td>\n",
       "    </tr>\n",
       "    <tr>\n",
       "      <th>272</th>\n",
       "      <td>Msite</td>\n",
       "      <td>4403</td>\n",
       "      <td>2016-12-13 08:20:13</td>\n",
       "      <td>Variety and service I haven't tried the app  A...</td>\n",
       "      <td>38</td>\n",
       "      <td>-0.300000</td>\n",
       "      <td>neg</td>\n",
       "    </tr>\n",
       "    <tr>\n",
       "      <th>352</th>\n",
       "      <td>Msite</td>\n",
       "      <td>4483</td>\n",
       "      <td>2016-12-14 07:15:02</td>\n",
       "      <td>Sizes are very unpredictable</td>\n",
       "      <td>4</td>\n",
       "      <td>-0.216667</td>\n",
       "      <td>neg</td>\n",
       "    </tr>\n",
       "    <tr>\n",
       "      <th>425</th>\n",
       "      <td>Msite</td>\n",
       "      <td>4556</td>\n",
       "      <td>2016-12-15 19:43:12</td>\n",
       "      <td>Clothing terrible sizing.</td>\n",
       "      <td>3</td>\n",
       "      <td>-1.000000</td>\n",
       "      <td>neg</td>\n",
       "    </tr>\n",
       "    <tr>\n",
       "      <th>438</th>\n",
       "      <td>Msite</td>\n",
       "      <td>4569</td>\n",
       "      <td>2016-12-15 22:43:46</td>\n",
       "      <td>Failure to supply the goods and late advise of...</td>\n",
       "      <td>22</td>\n",
       "      <td>-0.308333</td>\n",
       "      <td>neg</td>\n",
       "    </tr>\n",
       "  </tbody>\n",
       "</table>\n",
       "</div>"
      ],
      "text/plain": [
       "    Device  Response ID        Time Started  \\\n",
       "202  Msite         4333 2016-12-12 12:43:18   \n",
       "272  Msite         4403 2016-12-13 08:20:13   \n",
       "352  Msite         4483 2016-12-14 07:15:02   \n",
       "425  Msite         4556 2016-12-15 19:43:12   \n",
       "438  Msite         4569 2016-12-15 22:43:46   \n",
       "\n",
       "                                               Comment  Length  \\\n",
       "202        Received wrong order and order out of stock       8   \n",
       "272  Variety and service I haven't tried the app  A...      38   \n",
       "352                       Sizes are very unpredictable       4   \n",
       "425                          Clothing terrible sizing.       3   \n",
       "438  Failure to supply the goods and late advise of...      22   \n",
       "\n",
       "     Sentiment polarity Sentiment output  \n",
       "202           -0.500000              neg  \n",
       "272           -0.300000              neg  \n",
       "352           -0.216667              neg  \n",
       "425           -1.000000              neg  \n",
       "438           -0.308333              neg  "
      ]
     },
     "execution_count": 24,
     "metadata": {},
     "output_type": "execute_result"
    }
   ],
   "source": [
    "clean_comments[clean_comments['Sentiment polarity'] < -0.2].head()"
   ]
  },
  {
   "cell_type": "markdown",
   "metadata": {},
   "source": [
    "Let us see what the sentiment is for the customer with the longest comments."
   ]
  },
  {
   "cell_type": "code",
   "execution_count": 25,
   "metadata": {
    "collapsed": false
   },
   "outputs": [
    {
     "data": {
      "text/html": [
       "<div>\n",
       "<table border=\"1\" class=\"dataframe\">\n",
       "  <thead>\n",
       "    <tr style=\"text-align: right;\">\n",
       "      <th></th>\n",
       "      <th>Device</th>\n",
       "      <th>Response ID</th>\n",
       "      <th>Time Started</th>\n",
       "      <th>Comment</th>\n",
       "      <th>Length</th>\n",
       "      <th>Sentiment polarity</th>\n",
       "      <th>Sentiment output</th>\n",
       "    </tr>\n",
       "  </thead>\n",
       "  <tbody>\n",
       "    <tr>\n",
       "      <th>5513</th>\n",
       "      <td>Desktop</td>\n",
       "      <td>74371</td>\n",
       "      <td>2017-01-03 07:21:00</td>\n",
       "      <td>Resealable pouch! free delivery easy returns I...</td>\n",
       "      <td>441</td>\n",
       "      <td>0.131784</td>\n",
       "      <td>pos</td>\n",
       "    </tr>\n",
       "  </tbody>\n",
       "</table>\n",
       "</div>"
      ],
      "text/plain": [
       "       Device  Response ID        Time Started  \\\n",
       "5513  Desktop        74371 2017-01-03 07:21:00   \n",
       "\n",
       "                                                Comment  Length  \\\n",
       "5513  Resealable pouch! free delivery easy returns I...     441   \n",
       "\n",
       "      Sentiment polarity Sentiment output  \n",
       "5513            0.131784              pos  "
      ]
     },
     "execution_count": 25,
     "metadata": {},
     "output_type": "execute_result"
    }
   ],
   "source": [
    "clean_comments.ix[lengthy_ix, :]"
   ]
  },
  {
   "cell_type": "markdown",
   "metadata": {},
   "source": [
    "### 3.3 Save the results"
   ]
  },
  {
   "cell_type": "code",
   "execution_count": 29,
   "metadata": {
    "collapsed": false
   },
   "outputs": [],
   "source": [
    "raw_data.join(clean_comments, rsuffix='_2').to_csv(\"./sentiment_analysis_result.csv\", header=False, index=False)"
   ]
  },
  {
   "cell_type": "markdown",
   "metadata": {},
   "source": [
    "## 4. Conclusion and future work "
   ]
  },
  {
   "cell_type": "markdown",
   "metadata": {},
   "source": [
    "The above sentiment analysis is done based on a pre-defined sentiment database because the data provided don't have any labels (target varialable). It is expected to be less accurate comparing to the sentiment analysis models trained on a subset of data with labels. \n",
    "\n",
    "** To build a more accurate and robust Sentiment Analysis system, we should consider to train classification models based on supervised learning. That is a typical data science project workflow with repeatative steps as below. **\n",
    "\n",
    "1. Obtain training data (e.g. through customer rating or manually annotating). \n",
    "*  Perform data processing and feature engineering. \n",
    "*  Build a classifier, evaluate and tune the model. \n",
    "*  Apply the model to predict unseen new data. \n",
    "\n",
    "** I have done a sentiment analysis for Amazon Fine Food Reviews which contains about 0.5 million comments by applying logistic regression and SVM and achieved decent results. Please refer to my [GitHub link](https://github.com/q15928/MDS/blob/master/Amazon%20Food%20Reviews_sentiment_analysis.ipynb) for more details.**\n",
    "\n",
    "\n",
    "There are a few more things we can explore and research in order to improve the results.\n",
    "\n",
    "* Regarding featrue engineering, besides bag-of-words, we can try TF-IDF (Term Frequency, Inverse Document Frequency), n-gram, POS (Part of Speech) tags, etc..\n",
    "* We can try different classification models and algorithms, such as SVM, Decision Tree, Random Forest, XGBoost, etc..\n",
    "* We can perform Sentiment Analysis for each individual question."
   ]
  }
 ],
 "metadata": {
  "anaconda-cloud": {},
  "kernelspec": {
   "display_name": "Python 3",
   "language": "python",
   "name": "python3"
  },
  "language_info": {
   "codemirror_mode": {
    "name": "ipython",
    "version": 3
   },
   "file_extension": ".py",
   "mimetype": "text/x-python",
   "name": "python",
   "nbconvert_exporter": "python",
   "pygments_lexer": "ipython3",
   "version": "3.5.2"
  }
 },
 "nbformat": 4,
 "nbformat_minor": 2
}
