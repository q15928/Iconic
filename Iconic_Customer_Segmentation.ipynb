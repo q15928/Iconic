{
 "cells": [
  {
   "cell_type": "markdown",
   "metadata": {},
   "source": [
    "# Customer Segmentation "
   ]
  },
  {
   "cell_type": "markdown",
   "metadata": {},
   "source": [
    "**Task:** Perform customer segmenation with purchase history data."
   ]
  },
  {
   "cell_type": "markdown",
   "metadata": {},
   "source": [
    "## Import the necessary libraries "
   ]
  },
  {
   "cell_type": "code",
   "execution_count": 1,
   "metadata": {
    "collapsed": true
   },
   "outputs": [],
   "source": [
    "import pandas as pd\n",
    "import matplotlib\n",
    "import matplotlib.pyplot as plt\n",
    "import seaborn as sns\n",
    "\n",
    "pd.set_option('display.max_rows', 10)\n",
    "matplotlib.style.use('ggplot')\n",
    "%matplotlib inline"
   ]
  },
  {
   "cell_type": "markdown",
   "metadata": {},
   "source": [
    "## 1. Load the data "
   ]
  },
  {
   "cell_type": "markdown",
   "metadata": {},
   "source": [
    "As we know there are three columns are related with datetime data, we ask pandas to parse them as datetime format."
   ]
  },
  {
   "cell_type": "code",
   "execution_count": 2,
   "metadata": {
    "collapsed": false
   },
   "outputs": [
    {
     "data": {
      "text/html": [
       "<div>\n",
       "<table border=\"1\" class=\"dataframe\">\n",
       "  <thead>\n",
       "    <tr style=\"text-align: right;\">\n",
       "      <th></th>\n",
       "      <th>dim_customer_key</th>\n",
       "      <th>first_order_date</th>\n",
       "      <th>last_order_date</th>\n",
       "      <th>newsletter_gender</th>\n",
       "      <th>inferred_gender</th>\n",
       "      <th>dim_product_key</th>\n",
       "      <th>id_sales_order_item</th>\n",
       "      <th>id_sales_order</th>\n",
       "      <th>net_revenue</th>\n",
       "      <th>order_created_at</th>\n",
       "    </tr>\n",
       "  </thead>\n",
       "  <tbody>\n",
       "    <tr>\n",
       "      <th>0</th>\n",
       "      <td>2506804</td>\n",
       "      <td>2014-06-05</td>\n",
       "      <td>2017-01-12</td>\n",
       "      <td>[Unknown]</td>\n",
       "      <td>female</td>\n",
       "      <td>1642493</td>\n",
       "      <td>14080743</td>\n",
       "      <td>6523947</td>\n",
       "      <td>12.710</td>\n",
       "      <td>2016-12-31 16:33:11</td>\n",
       "    </tr>\n",
       "    <tr>\n",
       "      <th>1</th>\n",
       "      <td>1605816</td>\n",
       "      <td>2012-06-19</td>\n",
       "      <td>2016-12-23</td>\n",
       "      <td>[Unknown]</td>\n",
       "      <td>female</td>\n",
       "      <td>1701388</td>\n",
       "      <td>13978855</td>\n",
       "      <td>6476337</td>\n",
       "      <td>15.895</td>\n",
       "      <td>2016-12-23 22:43:33</td>\n",
       "    </tr>\n",
       "    <tr>\n",
       "      <th>2</th>\n",
       "      <td>3842991</td>\n",
       "      <td>NaT</td>\n",
       "      <td>NaT</td>\n",
       "      <td>[Unknown]</td>\n",
       "      <td>[Unknown]</td>\n",
       "      <td>1677861</td>\n",
       "      <td>14078402</td>\n",
       "      <td>6522765</td>\n",
       "      <td>81.360</td>\n",
       "      <td>2016-12-31 08:39:21</td>\n",
       "    </tr>\n",
       "    <tr>\n",
       "      <th>3</th>\n",
       "      <td>2858832</td>\n",
       "      <td>2015-02-19</td>\n",
       "      <td>2017-01-10</td>\n",
       "      <td>female</td>\n",
       "      <td>female</td>\n",
       "      <td>1664373</td>\n",
       "      <td>14080202</td>\n",
       "      <td>6523682</td>\n",
       "      <td>25.450</td>\n",
       "      <td>2016-12-31 14:43:32</td>\n",
       "    </tr>\n",
       "    <tr>\n",
       "      <th>4</th>\n",
       "      <td>2556567</td>\n",
       "      <td>2015-02-27</td>\n",
       "      <td>2017-01-07</td>\n",
       "      <td>female</td>\n",
       "      <td>female</td>\n",
       "      <td>1776134</td>\n",
       "      <td>14079655</td>\n",
       "      <td>6523393</td>\n",
       "      <td>31.795</td>\n",
       "      <td>2016-12-31 12:54:21</td>\n",
       "    </tr>\n",
       "  </tbody>\n",
       "</table>\n",
       "</div>"
      ],
      "text/plain": [
       "   dim_customer_key first_order_date last_order_date newsletter_gender  \\\n",
       "0           2506804       2014-06-05      2017-01-12         [Unknown]   \n",
       "1           1605816       2012-06-19      2016-12-23         [Unknown]   \n",
       "2           3842991              NaT             NaT         [Unknown]   \n",
       "3           2858832       2015-02-19      2017-01-10            female   \n",
       "4           2556567       2015-02-27      2017-01-07            female   \n",
       "\n",
       "  inferred_gender  dim_product_key  id_sales_order_item  id_sales_order  \\\n",
       "0          female          1642493             14080743         6523947   \n",
       "1          female          1701388             13978855         6476337   \n",
       "2       [Unknown]          1677861             14078402         6522765   \n",
       "3          female          1664373             14080202         6523682   \n",
       "4          female          1776134             14079655         6523393   \n",
       "\n",
       "   net_revenue    order_created_at  \n",
       "0       12.710 2016-12-31 16:33:11  \n",
       "1       15.895 2016-12-23 22:43:33  \n",
       "2       81.360 2016-12-31 08:39:21  \n",
       "3       25.450 2016-12-31 14:43:32  \n",
       "4       31.795 2016-12-31 12:54:21  "
      ]
     },
     "execution_count": 2,
     "metadata": {},
     "output_type": "execute_result"
    }
   ],
   "source": [
    "raw_data = pd.read_csv(\"./Customer_Data.csv\", parse_dates=[1, 2, 9], infer_datetime_format=True)\n",
    "raw_data.head()"
   ]
  },
  {
   "cell_type": "markdown",
   "metadata": {},
   "source": [
    "## 2. Explore the data and clean the data"
   ]
  },
  {
   "cell_type": "code",
   "execution_count": 3,
   "metadata": {
    "collapsed": false
   },
   "outputs": [
    {
     "name": "stdout",
     "output_type": "stream",
     "text": [
      "<class 'pandas.core.frame.DataFrame'>\n",
      "RangeIndex: 608 entries, 0 to 607\n",
      "Data columns (total 10 columns):\n",
      "dim_customer_key       608 non-null int64\n",
      "first_order_date       605 non-null datetime64[ns]\n",
      "last_order_date        605 non-null datetime64[ns]\n",
      "newsletter_gender      608 non-null object\n",
      "inferred_gender        608 non-null object\n",
      "dim_product_key        608 non-null int64\n",
      "id_sales_order_item    608 non-null int64\n",
      "id_sales_order         608 non-null int64\n",
      "net_revenue            608 non-null float64\n",
      "order_created_at       608 non-null datetime64[ns]\n",
      "dtypes: datetime64[ns](3), float64(1), int64(4), object(2)\n",
      "memory usage: 47.6+ KB\n"
     ]
    }
   ],
   "source": [
    "raw_data.info()"
   ]
  },
  {
   "cell_type": "markdown",
   "metadata": {},
   "source": [
    "There are 608 customer data with purchase records. Only the field \"net_revenue\" is numerical data, other fields are categorical data such as IDs, genders, dates. \n",
    "\n",
    "Let see the distribution of net_revenue for each product."
   ]
  },
  {
   "cell_type": "code",
   "execution_count": 4,
   "metadata": {
    "collapsed": false
   },
   "outputs": [
    {
     "data": {
      "text/plain": [
       "count    608.000000\n",
       "mean      33.366579\n",
       "std       21.191527\n",
       "min        3.400000\n",
       "25%       18.998750\n",
       "50%       29.070000\n",
       "75%       40.905000\n",
       "max      135.905000\n",
       "Name: net_revenue, dtype: float64"
      ]
     },
     "execution_count": 4,
     "metadata": {},
     "output_type": "execute_result"
    }
   ],
   "source": [
    "raw_data['net_revenue'].describe()"
   ]
  },
  {
   "cell_type": "code",
   "execution_count": 5,
   "metadata": {
    "collapsed": false
   },
   "outputs": [
    {
     "data": {
      "text/plain": [
       "<matplotlib.axes._subplots.AxesSubplot at 0x938a240>"
      ]
     },
     "execution_count": 5,
     "metadata": {},
     "output_type": "execute_result"
    },
    {
     "data": {
      "image/png": "[encoded data removed]",
      "text/plain": [
       "<matplotlib.figure.Figure at 0x2a3fdd8>"
      ]
     },
     "metadata": {},
     "output_type": "display_data"
    }
   ],
   "source": [
    "raw_data['net_revenue'].plot(kind='hist')"
   ]
  },
  {
   "cell_type": "markdown",
   "metadata": {},
   "source": [
    "### 2.1 How many distinct customers in the data and how many orders per customer "
   ]
  },
  {
   "cell_type": "code",
   "execution_count": 6,
   "metadata": {
    "collapsed": false
   },
   "outputs": [
    {
     "data": {
      "text/plain": [
       "10L"
      ]
     },
     "execution_count": 6,
     "metadata": {},
     "output_type": "execute_result"
    }
   ],
   "source": [
    "raw_data['dim_customer_key'].unique().shape[0]"
   ]
  },
  {
   "cell_type": "code",
   "execution_count": 7,
   "metadata": {
    "collapsed": false
   },
   "outputs": [
    {
     "data": {
      "text/plain": [
       "1605816    144\n",
       "3196999    139\n",
       "2556567     97\n",
       "2487338     70\n",
       "2858832     37\n",
       "1631812     36\n",
       "2506804     30\n",
       "3831319     29\n",
       "3545376     23\n",
       "3842991      3\n",
       "Name: dim_customer_key, dtype: int64"
      ]
     },
     "execution_count": 7,
     "metadata": {},
     "output_type": "execute_result"
    }
   ],
   "source": [
    "raw_data['dim_customer_key'].value_counts()"
   ]
  },
  {
   "cell_type": "markdown",
   "metadata": {},
   "source": [
    "Only 10 customer purchase history data are presented. Let us look at the customers with most orders and lest orders."
   ]
  },
  {
   "cell_type": "code",
   "execution_count": 8,
   "metadata": {
    "collapsed": false
   },
   "outputs": [
    {
     "data": {
      "text/html": [
       "<div>\n",
       "<table border=\"1\" class=\"dataframe\">\n",
       "  <thead>\n",
       "    <tr style=\"text-align: right;\">\n",
       "      <th></th>\n",
       "      <th>dim_customer_key</th>\n",
       "      <th>first_order_date</th>\n",
       "      <th>last_order_date</th>\n",
       "      <th>newsletter_gender</th>\n",
       "      <th>inferred_gender</th>\n",
       "      <th>dim_product_key</th>\n",
       "      <th>id_sales_order_item</th>\n",
       "      <th>id_sales_order</th>\n",
       "      <th>net_revenue</th>\n",
       "      <th>order_created_at</th>\n",
       "    </tr>\n",
       "  </thead>\n",
       "  <tbody>\n",
       "    <tr>\n",
       "      <th>1</th>\n",
       "      <td>1605816</td>\n",
       "      <td>2012-06-19</td>\n",
       "      <td>2016-12-23</td>\n",
       "      <td>[Unknown]</td>\n",
       "      <td>female</td>\n",
       "      <td>1701388</td>\n",
       "      <td>13978855</td>\n",
       "      <td>6476337</td>\n",
       "      <td>15.895</td>\n",
       "      <td>2016-12-23 22:43:33</td>\n",
       "    </tr>\n",
       "    <tr>\n",
       "      <th>37</th>\n",
       "      <td>1605816</td>\n",
       "      <td>2012-06-19</td>\n",
       "      <td>2016-12-23</td>\n",
       "      <td>[Unknown]</td>\n",
       "      <td>female</td>\n",
       "      <td>1604619</td>\n",
       "      <td>13978856</td>\n",
       "      <td>6476337</td>\n",
       "      <td>49.770</td>\n",
       "      <td>2016-12-23 22:43:33</td>\n",
       "    </tr>\n",
       "    <tr>\n",
       "      <th>60</th>\n",
       "      <td>1605816</td>\n",
       "      <td>2012-06-19</td>\n",
       "      <td>2016-12-23</td>\n",
       "      <td>[Unknown]</td>\n",
       "      <td>female</td>\n",
       "      <td>1716402</td>\n",
       "      <td>12101015</td>\n",
       "      <td>5630319</td>\n",
       "      <td>27.270</td>\n",
       "      <td>2016-09-16 08:48:27</td>\n",
       "    </tr>\n",
       "    <tr>\n",
       "      <th>61</th>\n",
       "      <td>1605816</td>\n",
       "      <td>2012-06-19</td>\n",
       "      <td>2016-12-23</td>\n",
       "      <td>[Unknown]</td>\n",
       "      <td>female</td>\n",
       "      <td>557564</td>\n",
       "      <td>12101014</td>\n",
       "      <td>5630319</td>\n",
       "      <td>36.340</td>\n",
       "      <td>2016-09-16 08:48:27</td>\n",
       "    </tr>\n",
       "    <tr>\n",
       "      <th>62</th>\n",
       "      <td>1605816</td>\n",
       "      <td>2012-06-19</td>\n",
       "      <td>2016-12-23</td>\n",
       "      <td>[Unknown]</td>\n",
       "      <td>female</td>\n",
       "      <td>200989</td>\n",
       "      <td>12101013</td>\n",
       "      <td>5630319</td>\n",
       "      <td>49.990</td>\n",
       "      <td>2016-09-16 08:48:27</td>\n",
       "    </tr>\n",
       "    <tr>\n",
       "      <th>...</th>\n",
       "      <td>...</td>\n",
       "      <td>...</td>\n",
       "      <td>...</td>\n",
       "      <td>...</td>\n",
       "      <td>...</td>\n",
       "      <td>...</td>\n",
       "      <td>...</td>\n",
       "      <td>...</td>\n",
       "      <td>...</td>\n",
       "      <td>...</td>\n",
       "    </tr>\n",
       "    <tr>\n",
       "      <th>602</th>\n",
       "      <td>1605816</td>\n",
       "      <td>2012-06-19</td>\n",
       "      <td>2016-12-23</td>\n",
       "      <td>[Unknown]</td>\n",
       "      <td>female</td>\n",
       "      <td>1621343</td>\n",
       "      <td>13292664</td>\n",
       "      <td>6162446</td>\n",
       "      <td>36.340</td>\n",
       "      <td>2016-11-23 10:40:36</td>\n",
       "    </tr>\n",
       "    <tr>\n",
       "      <th>603</th>\n",
       "      <td>1605816</td>\n",
       "      <td>2012-06-19</td>\n",
       "      <td>2016-12-23</td>\n",
       "      <td>[Unknown]</td>\n",
       "      <td>female</td>\n",
       "      <td>1640433</td>\n",
       "      <td>13292663</td>\n",
       "      <td>6162446</td>\n",
       "      <td>40.905</td>\n",
       "      <td>2016-11-23 10:40:36</td>\n",
       "    </tr>\n",
       "    <tr>\n",
       "      <th>604</th>\n",
       "      <td>1605816</td>\n",
       "      <td>2012-06-19</td>\n",
       "      <td>2016-12-23</td>\n",
       "      <td>[Unknown]</td>\n",
       "      <td>female</td>\n",
       "      <td>1749048</td>\n",
       "      <td>13292665</td>\n",
       "      <td>6162446</td>\n",
       "      <td>45.430</td>\n",
       "      <td>2016-11-23 10:40:36</td>\n",
       "    </tr>\n",
       "    <tr>\n",
       "      <th>605</th>\n",
       "      <td>1605816</td>\n",
       "      <td>2012-06-19</td>\n",
       "      <td>2016-12-23</td>\n",
       "      <td>[Unknown]</td>\n",
       "      <td>female</td>\n",
       "      <td>1594067</td>\n",
       "      <td>12903306</td>\n",
       "      <td>5991792</td>\n",
       "      <td>28.620</td>\n",
       "      <td>2016-11-02 11:08:49</td>\n",
       "    </tr>\n",
       "    <tr>\n",
       "      <th>606</th>\n",
       "      <td>1605816</td>\n",
       "      <td>2012-06-19</td>\n",
       "      <td>2016-12-23</td>\n",
       "      <td>[Unknown]</td>\n",
       "      <td>female</td>\n",
       "      <td>1565126</td>\n",
       "      <td>13470108</td>\n",
       "      <td>6239306</td>\n",
       "      <td>44.535</td>\n",
       "      <td>2016-11-28 11:07:34</td>\n",
       "    </tr>\n",
       "  </tbody>\n",
       "</table>\n",
       "<p>144 rows × 10 columns</p>\n",
       "</div>"
      ],
      "text/plain": [
       "     dim_customer_key first_order_date last_order_date newsletter_gender  \\\n",
       "1             1605816       2012-06-19      2016-12-23         [Unknown]   \n",
       "37            1605816       2012-06-19      2016-12-23         [Unknown]   \n",
       "60            1605816       2012-06-19      2016-12-23         [Unknown]   \n",
       "61            1605816       2012-06-19      2016-12-23         [Unknown]   \n",
       "62            1605816       2012-06-19      2016-12-23         [Unknown]   \n",
       "..                ...              ...             ...               ...   \n",
       "602           1605816       2012-06-19      2016-12-23         [Unknown]   \n",
       "603           1605816       2012-06-19      2016-12-23         [Unknown]   \n",
       "604           1605816       2012-06-19      2016-12-23         [Unknown]   \n",
       "605           1605816       2012-06-19      2016-12-23         [Unknown]   \n",
       "606           1605816       2012-06-19      2016-12-23         [Unknown]   \n",
       "\n",
       "    inferred_gender  dim_product_key  id_sales_order_item  id_sales_order  \\\n",
       "1            female          1701388             13978855         6476337   \n",
       "37           female          1604619             13978856         6476337   \n",
       "60           female          1716402             12101015         5630319   \n",
       "61           female           557564             12101014         5630319   \n",
       "62           female           200989             12101013         5630319   \n",
       "..              ...              ...                  ...             ...   \n",
       "602          female          1621343             13292664         6162446   \n",
       "603          female          1640433             13292663         6162446   \n",
       "604          female          1749048             13292665         6162446   \n",
       "605          female          1594067             12903306         5991792   \n",
       "606          female          1565126             13470108         6239306   \n",
       "\n",
       "     net_revenue    order_created_at  \n",
       "1         15.895 2016-12-23 22:43:33  \n",
       "37        49.770 2016-12-23 22:43:33  \n",
       "60        27.270 2016-09-16 08:48:27  \n",
       "61        36.340 2016-09-16 08:48:27  \n",
       "62        49.990 2016-09-16 08:48:27  \n",
       "..           ...                 ...  \n",
       "602       36.340 2016-11-23 10:40:36  \n",
       "603       40.905 2016-11-23 10:40:36  \n",
       "604       45.430 2016-11-23 10:40:36  \n",
       "605       28.620 2016-11-02 11:08:49  \n",
       "606       44.535 2016-11-28 11:07:34  \n",
       "\n",
       "[144 rows x 10 columns]"
      ]
     },
     "execution_count": 8,
     "metadata": {},
     "output_type": "execute_result"
    }
   ],
   "source": [
    "raw_data[raw_data['dim_customer_key'] == 1605816]"
   ]
  },
  {
   "cell_type": "code",
   "execution_count": 9,
   "metadata": {
    "collapsed": false
   },
   "outputs": [
    {
     "data": {
      "text/html": [
       "<div>\n",
       "<table border=\"1\" class=\"dataframe\">\n",
       "  <thead>\n",
       "    <tr style=\"text-align: right;\">\n",
       "      <th></th>\n",
       "      <th>dim_customer_key</th>\n",
       "      <th>first_order_date</th>\n",
       "      <th>last_order_date</th>\n",
       "      <th>newsletter_gender</th>\n",
       "      <th>inferred_gender</th>\n",
       "      <th>dim_product_key</th>\n",
       "      <th>id_sales_order_item</th>\n",
       "      <th>id_sales_order</th>\n",
       "      <th>net_revenue</th>\n",
       "      <th>order_created_at</th>\n",
       "    </tr>\n",
       "  </thead>\n",
       "  <tbody>\n",
       "    <tr>\n",
       "      <th>2</th>\n",
       "      <td>3842991</td>\n",
       "      <td>NaT</td>\n",
       "      <td>NaT</td>\n",
       "      <td>[Unknown]</td>\n",
       "      <td>[Unknown]</td>\n",
       "      <td>1677861</td>\n",
       "      <td>14078402</td>\n",
       "      <td>6522765</td>\n",
       "      <td>81.36</td>\n",
       "      <td>2016-12-31 08:39:21</td>\n",
       "    </tr>\n",
       "    <tr>\n",
       "      <th>11</th>\n",
       "      <td>3842991</td>\n",
       "      <td>NaT</td>\n",
       "      <td>NaT</td>\n",
       "      <td>[Unknown]</td>\n",
       "      <td>[Unknown]</td>\n",
       "      <td>1677861</td>\n",
       "      <td>14078409</td>\n",
       "      <td>6522769</td>\n",
       "      <td>81.36</td>\n",
       "      <td>2016-12-31 08:41:34</td>\n",
       "    </tr>\n",
       "    <tr>\n",
       "      <th>514</th>\n",
       "      <td>3842991</td>\n",
       "      <td>NaT</td>\n",
       "      <td>NaT</td>\n",
       "      <td>[Unknown]</td>\n",
       "      <td>[Unknown]</td>\n",
       "      <td>1677861</td>\n",
       "      <td>14078362</td>\n",
       "      <td>6522743</td>\n",
       "      <td>81.36</td>\n",
       "      <td>2016-12-31 08:24:50</td>\n",
       "    </tr>\n",
       "  </tbody>\n",
       "</table>\n",
       "</div>"
      ],
      "text/plain": [
       "     dim_customer_key first_order_date last_order_date newsletter_gender  \\\n",
       "2             3842991              NaT             NaT         [Unknown]   \n",
       "11            3842991              NaT             NaT         [Unknown]   \n",
       "514           3842991              NaT             NaT         [Unknown]   \n",
       "\n",
       "    inferred_gender  dim_product_key  id_sales_order_item  id_sales_order  \\\n",
       "2         [Unknown]          1677861             14078402         6522765   \n",
       "11        [Unknown]          1677861             14078409         6522769   \n",
       "514       [Unknown]          1677861             14078362         6522743   \n",
       "\n",
       "     net_revenue    order_created_at  \n",
       "2          81.36 2016-12-31 08:39:21  \n",
       "11         81.36 2016-12-31 08:41:34  \n",
       "514        81.36 2016-12-31 08:24:50  "
      ]
     },
     "execution_count": 9,
     "metadata": {},
     "output_type": "execute_result"
    }
   ],
   "source": [
    "raw_data[raw_data['dim_customer_key'] == 3842991]"
   ]
  },
  {
   "cell_type": "markdown",
   "metadata": {},
   "source": [
    "It seems this customer did the purchase with THE ICONIC for the first time, we can infer the first and last order date are the same as order creatation date."
   ]
  },
  {
   "cell_type": "code",
   "execution_count": 6,
   "metadata": {
    "collapsed": false
   },
   "outputs": [],
   "source": [
    "customer_ix = raw_data[raw_data['dim_customer_key'] == 3842991].index\n",
    "order_date = raw_data[raw_data['dim_customer_key'] == 3842991].iloc[0, 9].date()\n",
    "# order_date"
   ]
  },
  {
   "cell_type": "code",
   "execution_count": 7,
   "metadata": {
    "collapsed": false
   },
   "outputs": [],
   "source": [
    "raw_data.ix[customer_ix, 'first_order_date'] = order_date\n",
    "raw_data.ix[customer_ix, 'last_order_date'] = order_date"
   ]
  },
  {
   "cell_type": "code",
   "execution_count": 8,
   "metadata": {
    "collapsed": false
   },
   "outputs": [
    {
     "data": {
      "text/html": [
       "<div>\n",
       "<table border=\"1\" class=\"dataframe\">\n",
       "  <thead>\n",
       "    <tr style=\"text-align: right;\">\n",
       "      <th></th>\n",
       "      <th>dim_customer_key</th>\n",
       "      <th>first_order_date</th>\n",
       "      <th>last_order_date</th>\n",
       "      <th>newsletter_gender</th>\n",
       "      <th>inferred_gender</th>\n",
       "      <th>dim_product_key</th>\n",
       "      <th>id_sales_order_item</th>\n",
       "      <th>id_sales_order</th>\n",
       "      <th>net_revenue</th>\n",
       "      <th>order_created_at</th>\n",
       "    </tr>\n",
       "  </thead>\n",
       "  <tbody>\n",
       "    <tr>\n",
       "      <th>2</th>\n",
       "      <td>3842991</td>\n",
       "      <td>2016-12-31</td>\n",
       "      <td>2016-12-31</td>\n",
       "      <td>[Unknown]</td>\n",
       "      <td>[Unknown]</td>\n",
       "      <td>1677861</td>\n",
       "      <td>14078402</td>\n",
       "      <td>6522765</td>\n",
       "      <td>81.36</td>\n",
       "      <td>2016-12-31 08:39:21</td>\n",
       "    </tr>\n",
       "    <tr>\n",
       "      <th>11</th>\n",
       "      <td>3842991</td>\n",
       "      <td>2016-12-31</td>\n",
       "      <td>2016-12-31</td>\n",
       "      <td>[Unknown]</td>\n",
       "      <td>[Unknown]</td>\n",
       "      <td>1677861</td>\n",
       "      <td>14078409</td>\n",
       "      <td>6522769</td>\n",
       "      <td>81.36</td>\n",
       "      <td>2016-12-31 08:41:34</td>\n",
       "    </tr>\n",
       "    <tr>\n",
       "      <th>514</th>\n",
       "      <td>3842991</td>\n",
       "      <td>2016-12-31</td>\n",
       "      <td>2016-12-31</td>\n",
       "      <td>[Unknown]</td>\n",
       "      <td>[Unknown]</td>\n",
       "      <td>1677861</td>\n",
       "      <td>14078362</td>\n",
       "      <td>6522743</td>\n",
       "      <td>81.36</td>\n",
       "      <td>2016-12-31 08:24:50</td>\n",
       "    </tr>\n",
       "  </tbody>\n",
       "</table>\n",
       "</div>"
      ],
      "text/plain": [
       "     dim_customer_key first_order_date last_order_date newsletter_gender  \\\n",
       "2             3842991       2016-12-31      2016-12-31         [Unknown]   \n",
       "11            3842991       2016-12-31      2016-12-31         [Unknown]   \n",
       "514           3842991       2016-12-31      2016-12-31         [Unknown]   \n",
       "\n",
       "    inferred_gender  dim_product_key  id_sales_order_item  id_sales_order  \\\n",
       "2         [Unknown]          1677861             14078402         6522765   \n",
       "11        [Unknown]          1677861             14078409         6522769   \n",
       "514       [Unknown]          1677861             14078362         6522743   \n",
       "\n",
       "     net_revenue    order_created_at  \n",
       "2          81.36 2016-12-31 08:39:21  \n",
       "11         81.36 2016-12-31 08:41:34  \n",
       "514        81.36 2016-12-31 08:24:50  "
      ]
     },
     "execution_count": 8,
     "metadata": {},
     "output_type": "execute_result"
    }
   ],
   "source": [
    "raw_data[raw_data['dim_customer_key'] == 3842991]"
   ]
  },
  {
   "cell_type": "markdown",
   "metadata": {},
   "source": [
    "### 2.2 Correct the last order date\n",
    "During spot check, it is found that the last order date is incorrect for some customers, e.g. customer_id 3196999, the last_order_date is **2016-12-11**, while the latest order is made on **2017-01-12**"
   ]
  },
  {
   "cell_type": "code",
   "execution_count": 9,
   "metadata": {
    "collapsed": false
   },
   "outputs": [
    {
     "data": {
      "text/plain": [
       "datetime.date(2015, 12, 21)"
      ]
     },
     "execution_count": 9,
     "metadata": {},
     "output_type": "execute_result"
    }
   ],
   "source": [
    "raw_data[raw_data['dim_customer_key'] == 3196999]['first_order_date'].iloc[0].date()"
   ]
  },
  {
   "cell_type": "code",
   "execution_count": 10,
   "metadata": {
    "collapsed": false
   },
   "outputs": [
    {
     "data": {
      "text/plain": [
       "datetime.date(2016, 12, 11)"
      ]
     },
     "execution_count": 10,
     "metadata": {},
     "output_type": "execute_result"
    }
   ],
   "source": [
    "raw_data[raw_data['dim_customer_key'] == 3196999]['last_order_date'].iloc[0].date()"
   ]
  },
  {
   "cell_type": "code",
   "execution_count": 11,
   "metadata": {
    "collapsed": false
   },
   "outputs": [
    {
     "data": {
      "text/plain": [
       "datetime.date(2015, 12, 21)"
      ]
     },
     "execution_count": 11,
     "metadata": {},
     "output_type": "execute_result"
    }
   ],
   "source": [
    "raw_data[raw_data['dim_customer_key'] == 3196999]['order_created_at'].min().date()"
   ]
  },
  {
   "cell_type": "code",
   "execution_count": 12,
   "metadata": {
    "collapsed": false
   },
   "outputs": [
    {
     "data": {
      "text/plain": [
       "datetime.date(2017, 1, 12)"
      ]
     },
     "execution_count": 12,
     "metadata": {},
     "output_type": "execute_result"
    }
   ],
   "source": [
    "raw_data[raw_data['dim_customer_key'] == 3196999]['order_created_at'].max().date()"
   ]
  },
  {
   "cell_type": "markdown",
   "metadata": {},
   "source": [
    "We define a function to correct this error."
   ]
  },
  {
   "cell_type": "code",
   "execution_count": 13,
   "metadata": {
    "collapsed": true
   },
   "outputs": [],
   "source": [
    "def correct_last_order_date(df):\n",
    "    \"\"\"helper function to correct the last_order_date column according to \n",
    "       order_created_at column\n",
    "    \"\"\"\n",
    "    for customer in df['dim_customer_key'].unique():\n",
    "        cusomter_ix = df[df['dim_customer_key'] == customer].index\n",
    "        first_date_correct = df.ix[cusomter_ix, 'order_created_at'].min().date()\n",
    "        last_date_correct = df.ix[cusomter_ix, 'order_created_at'].max().date()\n",
    "        \n",
    "        # check first_order_date\n",
    "        if first_date_correct != pd.datetime.utcfromtimestamp(df.ix[cusomter_ix, 'first_order_date'].unique()[0].tolist()/1e9).date():\n",
    "            df.ix[cusomter_ix, 'first_order_date'] = first_date_correct\n",
    "        \n",
    "        # check last_order_date\n",
    "        if last_date_correct != pd.datetime.utcfromtimestamp(df.ix[cusomter_ix, 'last_order_date'].unique()[0].tolist()/1e9).date():\n",
    "            df.ix[cusomter_ix, 'last_order_date'] = last_date_correct\n",
    "        \n",
    "    return df\n",
    "        "
   ]
  },
  {
   "cell_type": "code",
   "execution_count": 14,
   "metadata": {
    "collapsed": false
   },
   "outputs": [],
   "source": [
    "clean_data = correct_last_order_date(raw_data)"
   ]
  },
  {
   "cell_type": "markdown",
   "metadata": {},
   "source": [
    "Now we can expect the last_order_date is 2017-01-12"
   ]
  },
  {
   "cell_type": "code",
   "execution_count": 15,
   "metadata": {
    "collapsed": false
   },
   "outputs": [
    {
     "data": {
      "text/plain": [
       "datetime.date(2017, 1, 12)"
      ]
     },
     "execution_count": 15,
     "metadata": {},
     "output_type": "execute_result"
    }
   ],
   "source": [
    "clean_data[clean_data['dim_customer_key'] == 3196999]['last_order_date'].iloc[0].date()"
   ]
  },
  {
   "cell_type": "markdown",
   "metadata": {},
   "source": [
    "## 3. Customer Segmenation based on customer purchase activities "
   ]
  },
  {
   "cell_type": "markdown",
   "metadata": {},
   "source": [
    "### 3.1 Active days per customer\n",
    "It can be derived from first order date and last order date."
   ]
  },
  {
   "cell_type": "code",
   "execution_count": 16,
   "metadata": {
    "collapsed": false
   },
   "outputs": [],
   "source": [
    "clean_data['active_days'] = (clean_data['last_order_date'] - clean_data['first_order_date']).apply(lambda d: d.days + 1)"
   ]
  },
  {
   "cell_type": "code",
   "execution_count": 17,
   "metadata": {
    "collapsed": false
   },
   "outputs": [
    {
     "data": {
      "text/html": [
       "<div>\n",
       "<table border=\"1\" class=\"dataframe\">\n",
       "  <thead>\n",
       "    <tr style=\"text-align: right;\">\n",
       "      <th></th>\n",
       "      <th>dim_customer_key</th>\n",
       "      <th>active_days</th>\n",
       "    </tr>\n",
       "  </thead>\n",
       "  <tbody>\n",
       "    <tr>\n",
       "      <th>0</th>\n",
       "      <td>1605816</td>\n",
       "      <td>1649</td>\n",
       "    </tr>\n",
       "    <tr>\n",
       "      <th>1</th>\n",
       "      <td>1631812</td>\n",
       "      <td>1664</td>\n",
       "    </tr>\n",
       "    <tr>\n",
       "      <th>2</th>\n",
       "      <td>2487338</td>\n",
       "      <td>1033</td>\n",
       "    </tr>\n",
       "    <tr>\n",
       "      <th>3</th>\n",
       "      <td>2506804</td>\n",
       "      <td>953</td>\n",
       "    </tr>\n",
       "    <tr>\n",
       "      <th>4</th>\n",
       "      <td>2556567</td>\n",
       "      <td>681</td>\n",
       "    </tr>\n",
       "    <tr>\n",
       "      <th>5</th>\n",
       "      <td>2858832</td>\n",
       "      <td>692</td>\n",
       "    </tr>\n",
       "    <tr>\n",
       "      <th>6</th>\n",
       "      <td>3196999</td>\n",
       "      <td>389</td>\n",
       "    </tr>\n",
       "    <tr>\n",
       "      <th>7</th>\n",
       "      <td>3545376</td>\n",
       "      <td>172</td>\n",
       "    </tr>\n",
       "    <tr>\n",
       "      <th>8</th>\n",
       "      <td>3831319</td>\n",
       "      <td>1</td>\n",
       "    </tr>\n",
       "    <tr>\n",
       "      <th>9</th>\n",
       "      <td>3842991</td>\n",
       "      <td>1</td>\n",
       "    </tr>\n",
       "  </tbody>\n",
       "</table>\n",
       "</div>"
      ],
      "text/plain": [
       "   dim_customer_key  active_days\n",
       "0           1605816         1649\n",
       "1           1631812         1664\n",
       "2           2487338         1033\n",
       "3           2506804          953\n",
       "4           2556567          681\n",
       "5           2858832          692\n",
       "6           3196999          389\n",
       "7           3545376          172\n",
       "8           3831319            1\n",
       "9           3842991            1"
      ]
     },
     "execution_count": 17,
     "metadata": {},
     "output_type": "execute_result"
    }
   ],
   "source": [
    "customer_segments = clean_data.groupby('dim_customer_key', as_index=False)[['active_days']].mean()\n",
    "customer_segments"
   ]
  },
  {
   "cell_type": "markdown",
   "metadata": {},
   "source": [
    "### 3.2 Number of orders done per customer and the gross net revenue per order"
   ]
  },
  {
   "cell_type": "markdown",
   "metadata": {},
   "source": [
    "Firstly, we need to aggregate each order per customer."
   ]
  },
  {
   "cell_type": "code",
   "execution_count": 18,
   "metadata": {
    "collapsed": false
   },
   "outputs": [],
   "source": [
    "customer_orders = raw_data.groupby(['dim_customer_key', 'id_sales_order'], as_index=False)[['net_revenue']].sum()"
   ]
  },
  {
   "cell_type": "markdown",
   "metadata": {},
   "source": [
    "Then we can calculate the number of orders per customer."
   ]
  },
  {
   "cell_type": "code",
   "execution_count": 19,
   "metadata": {
    "collapsed": true
   },
   "outputs": [],
   "source": [
    "orders_per_customer = customer_orders.groupby('dim_customer_key', as_index=False)['id_sales_order'].count()\n",
    "# orders_per_customer"
   ]
  },
  {
   "cell_type": "markdown",
   "metadata": {},
   "source": [
    "And we can calculate average net reveneue per customer and the total net revenue per customer."
   ]
  },
  {
   "cell_type": "code",
   "execution_count": 20,
   "metadata": {
    "collapsed": false
   },
   "outputs": [],
   "source": [
    "revenue_per_customer = customer_orders.groupby('dim_customer_key', as_index=False)['net_revenue'].agg(['mean', 'sum'])\n",
    "# revenue_per_customer"
   ]
  },
  {
   "cell_type": "markdown",
   "metadata": {},
   "source": [
    "Finally, we can join all these data together."
   ]
  },
  {
   "cell_type": "code",
   "execution_count": 21,
   "metadata": {
    "collapsed": false
   },
   "outputs": [],
   "source": [
    "customer_segments = customer_segments.join(orders_per_customer.set_index('dim_customer_key'), \n",
    "                                           on=['dim_customer_key'], how='left', lsuffix='_1')"
   ]
  },
  {
   "cell_type": "code",
   "execution_count": 22,
   "metadata": {
    "collapsed": false
   },
   "outputs": [],
   "source": [
    "customer_segments = customer_segments.join(revenue_per_customer, \n",
    "                                           on=['dim_customer_key'], how='left', lsuffix='_1')"
   ]
  },
  {
   "cell_type": "code",
   "execution_count": 23,
   "metadata": {
    "collapsed": false
   },
   "outputs": [
    {
     "data": {
      "text/html": [
       "<div>\n",
       "<table border=\"1\" class=\"dataframe\">\n",
       "  <thead>\n",
       "    <tr style=\"text-align: right;\">\n",
       "      <th></th>\n",
       "      <th>dim_customer_key</th>\n",
       "      <th>active_days</th>\n",
       "      <th>number_of_orders</th>\n",
       "      <th>avg_net_revenue_per_order</th>\n",
       "      <th>total_net_revenue</th>\n",
       "    </tr>\n",
       "  </thead>\n",
       "  <tbody>\n",
       "    <tr>\n",
       "      <th>0</th>\n",
       "      <td>1605816</td>\n",
       "      <td>1649</td>\n",
       "      <td>60</td>\n",
       "      <td>85.362667</td>\n",
       "      <td>5121.760</td>\n",
       "    </tr>\n",
       "    <tr>\n",
       "      <th>1</th>\n",
       "      <td>1631812</td>\n",
       "      <td>1664</td>\n",
       "      <td>20</td>\n",
       "      <td>47.904500</td>\n",
       "      <td>958.090</td>\n",
       "    </tr>\n",
       "    <tr>\n",
       "      <th>2</th>\n",
       "      <td>2487338</td>\n",
       "      <td>1033</td>\n",
       "      <td>29</td>\n",
       "      <td>57.732414</td>\n",
       "      <td>1674.240</td>\n",
       "    </tr>\n",
       "    <tr>\n",
       "      <th>3</th>\n",
       "      <td>2506804</td>\n",
       "      <td>953</td>\n",
       "      <td>15</td>\n",
       "      <td>51.515667</td>\n",
       "      <td>772.735</td>\n",
       "    </tr>\n",
       "    <tr>\n",
       "      <th>4</th>\n",
       "      <td>2556567</td>\n",
       "      <td>681</td>\n",
       "      <td>57</td>\n",
       "      <td>48.728070</td>\n",
       "      <td>2777.500</td>\n",
       "    </tr>\n",
       "    <tr>\n",
       "      <th>5</th>\n",
       "      <td>2858832</td>\n",
       "      <td>692</td>\n",
       "      <td>14</td>\n",
       "      <td>67.418571</td>\n",
       "      <td>943.860</td>\n",
       "    </tr>\n",
       "    <tr>\n",
       "      <th>6</th>\n",
       "      <td>3196999</td>\n",
       "      <td>389</td>\n",
       "      <td>21</td>\n",
       "      <td>263.139286</td>\n",
       "      <td>5525.925</td>\n",
       "    </tr>\n",
       "    <tr>\n",
       "      <th>7</th>\n",
       "      <td>3545376</td>\n",
       "      <td>172</td>\n",
       "      <td>19</td>\n",
       "      <td>51.352895</td>\n",
       "      <td>975.705</td>\n",
       "    </tr>\n",
       "    <tr>\n",
       "      <th>8</th>\n",
       "      <td>3831319</td>\n",
       "      <td>1</td>\n",
       "      <td>29</td>\n",
       "      <td>44.585690</td>\n",
       "      <td>1292.985</td>\n",
       "    </tr>\n",
       "    <tr>\n",
       "      <th>9</th>\n",
       "      <td>3842991</td>\n",
       "      <td>1</td>\n",
       "      <td>3</td>\n",
       "      <td>81.360000</td>\n",
       "      <td>244.080</td>\n",
       "    </tr>\n",
       "  </tbody>\n",
       "</table>\n",
       "</div>"
      ],
      "text/plain": [
       "   dim_customer_key  active_days  number_of_orders  avg_net_revenue_per_order  \\\n",
       "0           1605816         1649                60                  85.362667   \n",
       "1           1631812         1664                20                  47.904500   \n",
       "2           2487338         1033                29                  57.732414   \n",
       "3           2506804          953                15                  51.515667   \n",
       "4           2556567          681                57                  48.728070   \n",
       "5           2858832          692                14                  67.418571   \n",
       "6           3196999          389                21                 263.139286   \n",
       "7           3545376          172                19                  51.352895   \n",
       "8           3831319            1                29                  44.585690   \n",
       "9           3842991            1                 3                  81.360000   \n",
       "\n",
       "   total_net_revenue  \n",
       "0           5121.760  \n",
       "1            958.090  \n",
       "2           1674.240  \n",
       "3            772.735  \n",
       "4           2777.500  \n",
       "5            943.860  \n",
       "6           5525.925  \n",
       "7            975.705  \n",
       "8           1292.985  \n",
       "9            244.080  "
      ]
     },
     "execution_count": 23,
     "metadata": {},
     "output_type": "execute_result"
    }
   ],
   "source": [
    "customer_segments.columns = ['dim_customer_key', 'active_days', 'number_of_orders', 'avg_net_revenue_per_order', 'total_net_revenue']\n",
    "customer_segments"
   ]
  },
  {
   "cell_type": "markdown",
   "metadata": {},
   "source": [
    "### 3.3 Customer segmentation and visualisation"
   ]
  },
  {
   "cell_type": "markdown",
   "metadata": {},
   "source": [
    "Based on the results processed above, we can segment customers into:\n",
    "* **VIP customer**: who is active more than 1 year with total net revenue more than 1500. E.g. customer 1605816, 2487338, 2556567, 3196999\n",
    "* **Potential VIP customer**: who is active less than 1 year with total net revenue more than 800. E.g. customer 3545376, 3831319\n",
    "* **Regular customer**: who is active more than 1 year with total net revenue less than 1500. E.g. custome 1631812, 2506804, 2858832\n",
    "* **New customer**: who just does the first purchase. E.g. customer 3842991"
   ]
  },
  {
   "cell_type": "code",
   "execution_count": 24,
   "metadata": {
    "collapsed": false
   },
   "outputs": [],
   "source": [
    "customer_segments['segmentation'] = 0\n",
    "customer_segments.loc[(customer_segments['active_days'] > 365) & (customer_segments['total_net_revenue'] > 1500), 'segmentation'] = 'VIP'\n",
    "customer_segments.loc[(customer_segments['active_days'] < 365) & (customer_segments['total_net_revenue'] > 800), 'segmentation'] = 'Potential'\n",
    "customer_segments.loc[(customer_segments['active_days'] > 365) & (customer_segments['total_net_revenue'] < 1500), 'segmentation'] = 'Regular'\n",
    "customer_segments.loc[(customer_segments['active_days'] < 365) & (customer_segments['total_net_revenue'] < 800), 'segmentation'] = 'New'"
   ]
  },
  {
   "cell_type": "code",
   "execution_count": 25,
   "metadata": {
    "collapsed": false
   },
   "outputs": [
    {
     "data": {
      "text/html": [
       "<div>\n",
       "<table border=\"1\" class=\"dataframe\">\n",
       "  <thead>\n",
       "    <tr style=\"text-align: right;\">\n",
       "      <th></th>\n",
       "      <th>dim_customer_key</th>\n",
       "      <th>active_days</th>\n",
       "      <th>number_of_orders</th>\n",
       "      <th>avg_net_revenue_per_order</th>\n",
       "      <th>total_net_revenue</th>\n",
       "      <th>segmentation</th>\n",
       "    </tr>\n",
       "  </thead>\n",
       "  <tbody>\n",
       "    <tr>\n",
       "      <th>0</th>\n",
       "      <td>1605816</td>\n",
       "      <td>1649</td>\n",
       "      <td>60</td>\n",
       "      <td>85.362667</td>\n",
       "      <td>5121.760</td>\n",
       "      <td>VIP</td>\n",
       "    </tr>\n",
       "    <tr>\n",
       "      <th>1</th>\n",
       "      <td>1631812</td>\n",
       "      <td>1664</td>\n",
       "      <td>20</td>\n",
       "      <td>47.904500</td>\n",
       "      <td>958.090</td>\n",
       "      <td>Regular</td>\n",
       "    </tr>\n",
       "    <tr>\n",
       "      <th>2</th>\n",
       "      <td>2487338</td>\n",
       "      <td>1033</td>\n",
       "      <td>29</td>\n",
       "      <td>57.732414</td>\n",
       "      <td>1674.240</td>\n",
       "      <td>VIP</td>\n",
       "    </tr>\n",
       "    <tr>\n",
       "      <th>3</th>\n",
       "      <td>2506804</td>\n",
       "      <td>953</td>\n",
       "      <td>15</td>\n",
       "      <td>51.515667</td>\n",
       "      <td>772.735</td>\n",
       "      <td>Regular</td>\n",
       "    </tr>\n",
       "    <tr>\n",
       "      <th>4</th>\n",
       "      <td>2556567</td>\n",
       "      <td>681</td>\n",
       "      <td>57</td>\n",
       "      <td>48.728070</td>\n",
       "      <td>2777.500</td>\n",
       "      <td>VIP</td>\n",
       "    </tr>\n",
       "    <tr>\n",
       "      <th>5</th>\n",
       "      <td>2858832</td>\n",
       "      <td>692</td>\n",
       "      <td>14</td>\n",
       "      <td>67.418571</td>\n",
       "      <td>943.860</td>\n",
       "      <td>Regular</td>\n",
       "    </tr>\n",
       "    <tr>\n",
       "      <th>6</th>\n",
       "      <td>3196999</td>\n",
       "      <td>389</td>\n",
       "      <td>21</td>\n",
       "      <td>263.139286</td>\n",
       "      <td>5525.925</td>\n",
       "      <td>VIP</td>\n",
       "    </tr>\n",
       "    <tr>\n",
       "      <th>7</th>\n",
       "      <td>3545376</td>\n",
       "      <td>172</td>\n",
       "      <td>19</td>\n",
       "      <td>51.352895</td>\n",
       "      <td>975.705</td>\n",
       "      <td>Potential</td>\n",
       "    </tr>\n",
       "    <tr>\n",
       "      <th>8</th>\n",
       "      <td>3831319</td>\n",
       "      <td>1</td>\n",
       "      <td>29</td>\n",
       "      <td>44.585690</td>\n",
       "      <td>1292.985</td>\n",
       "      <td>Potential</td>\n",
       "    </tr>\n",
       "    <tr>\n",
       "      <th>9</th>\n",
       "      <td>3842991</td>\n",
       "      <td>1</td>\n",
       "      <td>3</td>\n",
       "      <td>81.360000</td>\n",
       "      <td>244.080</td>\n",
       "      <td>New</td>\n",
       "    </tr>\n",
       "  </tbody>\n",
       "</table>\n",
       "</div>"
      ],
      "text/plain": [
       "   dim_customer_key  active_days  number_of_orders  avg_net_revenue_per_order  \\\n",
       "0           1605816         1649                60                  85.362667   \n",
       "1           1631812         1664                20                  47.904500   \n",
       "2           2487338         1033                29                  57.732414   \n",
       "3           2506804          953                15                  51.515667   \n",
       "4           2556567          681                57                  48.728070   \n",
       "5           2858832          692                14                  67.418571   \n",
       "6           3196999          389                21                 263.139286   \n",
       "7           3545376          172                19                  51.352895   \n",
       "8           3831319            1                29                  44.585690   \n",
       "9           3842991            1                 3                  81.360000   \n",
       "\n",
       "   total_net_revenue segmentation  \n",
       "0           5121.760          VIP  \n",
       "1            958.090      Regular  \n",
       "2           1674.240          VIP  \n",
       "3            772.735      Regular  \n",
       "4           2777.500          VIP  \n",
       "5            943.860      Regular  \n",
       "6           5525.925          VIP  \n",
       "7            975.705    Potential  \n",
       "8           1292.985    Potential  \n",
       "9            244.080          New  "
      ]
     },
     "execution_count": 25,
     "metadata": {},
     "output_type": "execute_result"
    }
   ],
   "source": [
    "customer_segments"
   ]
  },
  {
   "cell_type": "code",
   "execution_count": 26,
   "metadata": {
    "collapsed": false
   },
   "outputs": [
    {
     "data": {
      "image/png": "[encoded data removed]",
      "text/plain": [
       "<matplotlib.figure.Figure at 0x963f198>"
      ]
     },
     "metadata": {},
     "output_type": "display_data"
    }
   ],
   "source": [
    "sns.lmplot(x='active_days', y='total_net_revenue', data=customer_segments, hue='segmentation', fit_reg=False)\n",
    "plt.show()"
   ]
  },
  {
   "cell_type": "markdown",
   "metadata": {},
   "source": [
    "## 4. Conclusion and future work "
   ]
  },
  {
   "cell_type": "markdown",
   "metadata": {},
   "source": [
    "According to different business requirements, we can perform customer segmentation based on different criterias, such as the gender and product preference, or seasonal purchase patterns (e.g. Christmas season, summer, etc.).\n",
    "\n",
    "If the dataset if huge enough, it will be beneficial to apply machine learning techniques such as K-means clustering or hierarchical clustering as the first step to gain insights of clustering of customer data. Then we can fine tune the number of clustering / segmentation based on business requirement and criterias.\n",
    "\n",
    "Data science is a field with inter discipline skills including mathmaticas, statistics, programming and domain knowledge. It is expected to yield better result if the business logic and requirement is well defined for the data analytics."
   ]
  },
  {
   "cell_type": "code",
   "execution_count": null,
   "metadata": {
    "collapsed": true
   },
   "outputs": [],
   "source": []
  }
 ],
 "metadata": {
  "anaconda-cloud": {},
  "kernelspec": {
   "display_name": "Python [conda root]",
   "language": "python",
   "name": "conda-root-py"
  },
  "language_info": {
   "codemirror_mode": {
    "name": "ipython",
    "version": 2
   },
   "file_extension": ".py",
   "mimetype": "text/x-python",
   "name": "python",
   "nbconvert_exporter": "python",
   "pygments_lexer": "ipython2",
   "version": "2.7.13"
  }
 },
 "nbformat": 4,
 "nbformat_minor": 2
}
